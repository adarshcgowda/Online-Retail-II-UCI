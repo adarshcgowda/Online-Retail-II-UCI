{
 "cells": [
  {
   "cell_type": "markdown",
   "metadata": {},
   "source": [
    "<p style=\"background-color:#ff0000;font-family:Georgia;color:#ff0000;font-size:105%;text-align:center;border-radius:10px 10px;border-style: dotted;border-width:17px;border-color:#ff0000;\"></p>\n",
    "<h1 style=\"color:black;font-size:50px;font-family:Georgia;text-align:center;\">👨‍💻<strong>Customer <strong style=\"color:#ff0000;font-size:47px;font-family:Georgia;\">Segmentation<strong style=\"color:black;font-size:50px;font-family:Georgia;\"> by Enhanced RFM</strong></strong></strong>👨‍💻</h1>\n",
    "\n",
    "<p style= \"font-family:Georgia;color:#000000;font-size:110%;text-align:center;\">This Notebook introduce new dimension called Inter-Purchase Time(T) to the traditional RFM (Recency, Frequency and Monatery) Model. New attribute \"T\" will include the customer dynamic purchasing behaviour within their shopping cycle.<br>\n",
    "But why RFMT? although RFM model is been in use predominantly across industries..<br>\n",
    "Well, lets quickly look at some facts.<br>\n",
    "RFM Model was proposed by Hughes in 1994 to analyze customer behaviors. Implementing RFM Model permanently is challenging due to the unpredictable nature of human behavior and the potential for inaccurate results. Therefore, it is vital to include criteria which explain the buying habit of individuals. So lets move forward into context. <br>\n",
    "\n",
    "<p style=\"background-color:#ff0000;font-family:Georgia;color:#ff0000;font-size:105%;text-align:center;border-radius:10px 10px;border-style: dotted;border-width:17px;border-color:#ff0000;\"></p>\n",
    "\n",
    "\n",
    "<h1 style=\"color:black;font-size:40px;font-family:Georgia;text-align:center;\">👨‍💻<strong>Introduction</strong>👨‍💻</h1>\n",
    "<p style= \"font-family:Georgia;color:#000000;font-size:110%;text-align:center;\">Customer segmentation is a process of dividing all customers into distinct groups that share similar characteristics, such as demographics, interests, patterns, or location, and can help a business focus marketing efforts and resources on valuable, loyal customers to achieve business goals.Customer segmentation can be performed with customers’ demographic, geographic, behavioral, and psychological data.Digital business has increased rapidly during covid-19 and it is extremely important to maintain long-term relationship with customer.In US, 85% of new product launch was reported failed because for poor market segmentaton.therefore, more study and improvments is required on the consumer behavioural and engagement.</p>\n",
    "\n",
    "<p style=\"background-color:#ff0000;font-family:Georgia;color:#ff0000;font-size:105%;text-align:center;border-radius:10px 10px;border-style: dotted;border-width:17px;border-color:#ff0000;\"></p>\n",
    "\n",
    "<h1 style=\"color:black;font-size:40px;font-family:Georgia;text-align:center;\">👨‍💻<strong>Table <strong style=\"color:#ff0000;font-size:37px;font-family:Georgia;\">Of <strong style=\"color:black;font-size:40px;font-family:Georgia;\">The <strong style=\"color:#ff0000;font-size:37px;font-family:Georgia;\">Contents</strong></strong></strong></strong>👨‍💻</h1>\n",
    "\n",
    "* [Importing The Libraries.](#1)\n",
    "* [Loading & Reading The Dataset.](#2)\n",
    "* [Exploring Dataset.](#3)\n",
    "* [Data Wrangling.](#4)\n",
    "* [Exploratory Data Analysis.](#5)\n",
    "* [New Feature Extraction.](#6)\n",
    "* [Modelling with K-Means Algorithm.](#7)\n",
    "* [Model Evaluation.](#8)\n"
   ]
  },
  {
   "cell_type": "markdown",
   "metadata": {},
   "source": [
    "<a id=\"1\"></a>\n",
    "<p style=\"background-color:#ff0000;font-family:Georgia;color:#ff0000;font-size:105%;text-align:center;border-radius:10px 10px;border-style: dotted;border-width:17px;border-color:#ff0000;\"></p>\n",
    "<h1 style=\"color:black;font-size:32px;font-family:Georgia;text-align:center;\">👨‍💻<strong>Importing <strong style=\"color:#ff0000;font-size:30px;font-family:Georgia;\">The <strong style=\"color:black;font-size:32px;font-family:Georgia;\">Libraries</strong></strong></strong>👨‍💻</h1>"
   ]
  },
  {
   "cell_type": "code",
   "execution_count": 314,
   "metadata": {
    "_kg_hide-input": true,
    "execution": {
     "iopub.execute_input": "2023-07-08T14:08:53.410002Z",
     "iopub.status.busy": "2023-07-08T14:08:53.409585Z",
     "iopub.status.idle": "2023-07-08T14:08:53.418831Z",
     "shell.execute_reply": "2023-07-08T14:08:53.417670Z",
     "shell.execute_reply.started": "2023-07-08T14:08:53.409971Z"
    }
   },
   "outputs": [],
   "source": [
    "import pandas as pd\n",
    "import numpy as np\n",
    "import datetime as dt\n",
    "import seaborn as sns\n",
    "import matplotlib\n",
    "%matplotlib inline\n",
    "import matplotlib.pyplot as plt\n",
    "from sklearn.cluster import KMeans\n",
    "from sklearn.preprocessing import StandardScaler\n",
    "from yellowbrick.cluster import KElbowVisualizer\n",
    "from numpy import math\n",
    "import warnings\n",
    "warnings.simplefilter(action='ignore', category=FutureWarning)"
   ]
  },
  {
   "cell_type": "markdown",
   "metadata": {},
   "source": [
    "<a id=\"2\"></a>\n",
    "<p style=\"background-color:#ff0000;font-family:Georgia;color:#ff0000;font-size:105%;text-align:center;border-radius:10px 10px;border-style: dotted;border-width:15px;border-color:#ff0000;\"></p>\n",
    "<h1 style=\"color:black;font-size:32px;font-family:Georgia;text-align:center;\">👨‍💻<strong>Loading <strong style=\"color:#ff0000;font-size:30px;font-family:Georgia;\">& <strong style=\"color:black;font-size:32px;font-family:Georgia;\">Reading <strong style=\"color:#ff0000;font-size:30px;font-family:Georgia;\">The <strong style=\"color:black;font-size:32px;font-family:Georgia;\">Dataset </strong></strong></strong></strong></strong>👨‍💻</h1>"
   ]
  },
  {
   "cell_type": "code",
   "execution_count": 315,
   "metadata": {
    "execution": {
     "iopub.execute_input": "2023-07-08T14:08:53.446216Z",
     "iopub.status.busy": "2023-07-08T14:08:53.445943Z",
     "iopub.status.idle": "2023-07-08T14:08:54.940382Z",
     "shell.execute_reply": "2023-07-08T14:08:54.939425Z",
     "shell.execute_reply.started": "2023-07-08T14:08:53.446193Z"
    }
   },
   "outputs": [
    {
     "name": "stdout",
     "output_type": "stream",
     "text": [
      "--------------------------------------------------\n",
      " Data imported successfully!!\n"
     ]
    },
    {
     "data": {
      "text/html": [
       "<style type=\"text/css\">\n",
       "#T_77972_row0_col0, #T_77972_row0_col1, #T_77972_row0_col2, #T_77972_row0_col3, #T_77972_row0_col4, #T_77972_row0_col5, #T_77972_row0_col6, #T_77972_row0_col7, #T_77972_row1_col0, #T_77972_row1_col1, #T_77972_row1_col2, #T_77972_row1_col3, #T_77972_row1_col4, #T_77972_row1_col5, #T_77972_row1_col6, #T_77972_row1_col7, #T_77972_row2_col0, #T_77972_row2_col1, #T_77972_row2_col2, #T_77972_row2_col3, #T_77972_row2_col4, #T_77972_row2_col5, #T_77972_row2_col6, #T_77972_row2_col7 {\n",
       "  background-color: #cd5c5c;\n",
       "  color: black;\n",
       "  border-color: black;\n",
       "}\n",
       "</style>\n",
       "<table id=\"T_77972\">\n",
       "  <thead>\n",
       "    <tr>\n",
       "      <th class=\"blank level0\" >&nbsp;</th>\n",
       "      <th id=\"T_77972_level0_col0\" class=\"col_heading level0 col0\" >Invoice</th>\n",
       "      <th id=\"T_77972_level0_col1\" class=\"col_heading level0 col1\" >StockCode</th>\n",
       "      <th id=\"T_77972_level0_col2\" class=\"col_heading level0 col2\" >Description</th>\n",
       "      <th id=\"T_77972_level0_col3\" class=\"col_heading level0 col3\" >Quantity</th>\n",
       "      <th id=\"T_77972_level0_col4\" class=\"col_heading level0 col4\" >InvoiceDate</th>\n",
       "      <th id=\"T_77972_level0_col5\" class=\"col_heading level0 col5\" >Price</th>\n",
       "      <th id=\"T_77972_level0_col6\" class=\"col_heading level0 col6\" >Customer ID</th>\n",
       "      <th id=\"T_77972_level0_col7\" class=\"col_heading level0 col7\" >Country</th>\n",
       "    </tr>\n",
       "  </thead>\n",
       "  <tbody>\n",
       "    <tr>\n",
       "      <th id=\"T_77972_level0_row0\" class=\"row_heading level0 row0\" >0</th>\n",
       "      <td id=\"T_77972_row0_col0\" class=\"data row0 col0\" >489434</td>\n",
       "      <td id=\"T_77972_row0_col1\" class=\"data row0 col1\" >85048</td>\n",
       "      <td id=\"T_77972_row0_col2\" class=\"data row0 col2\" >15CM CHRISTMAS GLASS BALL 20 LIGHTS</td>\n",
       "      <td id=\"T_77972_row0_col3\" class=\"data row0 col3\" >12</td>\n",
       "      <td id=\"T_77972_row0_col4\" class=\"data row0 col4\" >2009-12-01 07:45:00</td>\n",
       "      <td id=\"T_77972_row0_col5\" class=\"data row0 col5\" >6.950000</td>\n",
       "      <td id=\"T_77972_row0_col6\" class=\"data row0 col6\" >13085.000000</td>\n",
       "      <td id=\"T_77972_row0_col7\" class=\"data row0 col7\" >United Kingdom</td>\n",
       "    </tr>\n",
       "    <tr>\n",
       "      <th id=\"T_77972_level0_row1\" class=\"row_heading level0 row1\" >1</th>\n",
       "      <td id=\"T_77972_row1_col0\" class=\"data row1 col0\" >489434</td>\n",
       "      <td id=\"T_77972_row1_col1\" class=\"data row1 col1\" >79323P</td>\n",
       "      <td id=\"T_77972_row1_col2\" class=\"data row1 col2\" >PINK CHERRY LIGHTS</td>\n",
       "      <td id=\"T_77972_row1_col3\" class=\"data row1 col3\" >12</td>\n",
       "      <td id=\"T_77972_row1_col4\" class=\"data row1 col4\" >2009-12-01 07:45:00</td>\n",
       "      <td id=\"T_77972_row1_col5\" class=\"data row1 col5\" >6.750000</td>\n",
       "      <td id=\"T_77972_row1_col6\" class=\"data row1 col6\" >13085.000000</td>\n",
       "      <td id=\"T_77972_row1_col7\" class=\"data row1 col7\" >United Kingdom</td>\n",
       "    </tr>\n",
       "    <tr>\n",
       "      <th id=\"T_77972_level0_row2\" class=\"row_heading level0 row2\" >2</th>\n",
       "      <td id=\"T_77972_row2_col0\" class=\"data row2 col0\" >489434</td>\n",
       "      <td id=\"T_77972_row2_col1\" class=\"data row2 col1\" >79323W</td>\n",
       "      <td id=\"T_77972_row2_col2\" class=\"data row2 col2\" > WHITE CHERRY LIGHTS</td>\n",
       "      <td id=\"T_77972_row2_col3\" class=\"data row2 col3\" >12</td>\n",
       "      <td id=\"T_77972_row2_col4\" class=\"data row2 col4\" >2009-12-01 07:45:00</td>\n",
       "      <td id=\"T_77972_row2_col5\" class=\"data row2 col5\" >6.750000</td>\n",
       "      <td id=\"T_77972_row2_col6\" class=\"data row2 col6\" >13085.000000</td>\n",
       "      <td id=\"T_77972_row2_col7\" class=\"data row2 col7\" >United Kingdom</td>\n",
       "    </tr>\n",
       "  </tbody>\n",
       "</table>\n"
      ],
      "text/plain": [
       "<pandas.io.formats.style.Styler at 0x1c8c1db2c40>"
      ]
     },
     "execution_count": 315,
     "metadata": {},
     "output_type": "execute_result"
    }
   ],
   "source": [
    "#lETS READ THE DATASET...\n",
    "data = pd.read_csv(\"online_retail_II.csv\")\n",
    "print(\"-\"*50)\n",
    "print(\" Data imported successfully!!\")\n",
    "data.head(3).style.set_properties(**{\"background-color\": \"#cd5c5c\",\"color\": \"black\", \"border-color\": \"black\"})"
   ]
  },
  {
   "cell_type": "markdown",
   "metadata": {},
   "source": [
    "<a id=\"3\"></a>\n",
    "<p style=\"background-color:#ff0000;font-family:Georgia;color:#ff0000;font-size:105%;text-align:center;border-radius:10px 10px;border-style: dotted;border-width:15px;border-color:#ff0000;\"></p>\n",
    "<h1 style=\"color:black;font-size:32px;font-family:Georgia;text-align:center;\">👨‍💻<strong>Exploring <strong style=\"color:#ff0000;font-size:30px;font-family:Georgia;\">Information <strong style=\"color:black;font-size:32px;font-family:Georgia;\">Of <strong style=\"color:#ff0000;font-size:30px;font-family:Georgia;\">The <strong style=\"color:black;font-size:32px;font-family:Georgia;\">Dataset </strong></strong></strong></strong></strong>👨‍💻</h1>"
   ]
  },
  {
   "cell_type": "code",
   "execution_count": 316,
   "metadata": {
    "execution": {
     "iopub.execute_input": "2023-07-08T14:08:54.943236Z",
     "iopub.status.busy": "2023-07-08T14:08:54.942559Z",
     "iopub.status.idle": "2023-07-08T14:09:01.422441Z",
     "shell.execute_reply": "2023-07-08T14:09:01.421393Z",
     "shell.execute_reply.started": "2023-07-08T14:08:54.943201Z"
    }
   },
   "outputs": [
    {
     "name": "stdout",
     "output_type": "stream",
     "text": [
      "------------------------------------------------------ SHAPE OF DATASET -----------------------------------------------------\n",
      "Rows:1067371\n",
      "Columns:8\n",
      "------------------------------------------------------------ HEAD -----------------------------------------------------------\n",
      "  Invoice StockCode                          Description  Quantity  \\\n",
      "0  489434     85048  15CM CHRISTMAS GLASS BALL 20 LIGHTS        12   \n",
      "1  489434    79323P                   PINK CHERRY LIGHTS        12   \n",
      "2  489434    79323W                  WHITE CHERRY LIGHTS        12   \n",
      "3  489434     22041         RECORD FRAME 7\" SINGLE SIZE         48   \n",
      "4  489434     21232       STRAWBERRY CERAMIC TRINKET BOX        24   \n",
      "\n",
      "           InvoiceDate  Price  Customer ID         Country  \n",
      "0  2009-12-01 07:45:00   6.95      13085.0  United Kingdom  \n",
      "1  2009-12-01 07:45:00   6.75      13085.0  United Kingdom  \n",
      "2  2009-12-01 07:45:00   6.75      13085.0  United Kingdom  \n",
      "3  2009-12-01 07:45:00   2.10      13085.0  United Kingdom  \n",
      "4  2009-12-01 07:45:00   1.25      13085.0  United Kingdom  \n",
      "----------------------------------------------------------DATA TYPES---------------------------------------------------------\n",
      "object     5\n",
      "float64    2\n",
      "int64      1\n",
      "dtype: int64\n",
      "------------------------------------------------------- MISSING VALUES ------------------------------------------------------\n",
      "Customer ID    243007\n",
      "Description      4382\n",
      "dtype: int64\n",
      "----------------------------------------------------- DUPLICATED VALUES -----------------------------------------------------\n",
      "34335\n",
      "----------------------------------------------------- STATISTICS OF DATA ----------------------------------------------------\n",
      "        Invoice StockCode                         Description      Quantity  \\\n",
      "count   1067371   1067371                             1062989  1.067371e+06   \n",
      "unique    53628      5305                                5698           NaN   \n",
      "top      537434    85123A  WHITE HANGING HEART T-LIGHT HOLDER           NaN   \n",
      "freq       1350      5829                                5918           NaN   \n",
      "mean        NaN       NaN                                 NaN  9.938898e+00   \n",
      "std         NaN       NaN                                 NaN  1.727058e+02   \n",
      "min         NaN       NaN                                 NaN -8.099500e+04   \n",
      "25%         NaN       NaN                                 NaN  1.000000e+00   \n",
      "50%         NaN       NaN                                 NaN  3.000000e+00   \n",
      "75%         NaN       NaN                                 NaN  1.000000e+01   \n",
      "max         NaN       NaN                                 NaN  8.099500e+04   \n",
      "\n",
      "                InvoiceDate         Price    Customer ID         Country  \n",
      "count               1067371  1.067371e+06  824364.000000         1067371  \n",
      "unique                47635           NaN            NaN              43  \n",
      "top     2010-12-06 16:57:00           NaN            NaN  United Kingdom  \n",
      "freq                   1350           NaN            NaN          981330  \n",
      "mean                    NaN  4.649388e+00   15324.638504             NaN  \n",
      "std                     NaN  1.235531e+02    1697.464450             NaN  \n",
      "min                     NaN -5.359436e+04   12346.000000             NaN  \n",
      "25%                     NaN  1.250000e+00   13975.000000             NaN  \n",
      "50%                     NaN  2.100000e+00   15255.000000             NaN  \n",
      "75%                     NaN  4.150000e+00   16797.000000             NaN  \n",
      "max                     NaN  3.897000e+04   18287.000000             NaN  \n",
      "----------------------------------------------------------DATA INFO----------------------------------------------------------\n",
      "<class 'pandas.core.frame.DataFrame'>\n",
      "RangeIndex: 1067371 entries, 0 to 1067370\n",
      "Data columns (total 8 columns):\n",
      " #   Column       Non-Null Count    Dtype  \n",
      "---  ------       --------------    -----  \n",
      " 0   Invoice      1067371 non-null  object \n",
      " 1   StockCode    1067371 non-null  object \n",
      " 2   Description  1062989 non-null  object \n",
      " 3   Quantity     1067371 non-null  int64  \n",
      " 4   InvoiceDate  1067371 non-null  object \n",
      " 5   Price        1067371 non-null  float64\n",
      " 6   Customer ID  824364 non-null   float64\n",
      " 7   Country      1067371 non-null  object \n",
      "dtypes: float64(2), int64(1), object(5)\n",
      "memory usage: 65.1+ MB\n",
      "None\n"
     ]
    }
   ],
   "source": [
    "pd.set_option('display.max_columns', None) \n",
    "def data_overview(df, head=5):\n",
    "    print(\" SHAPE OF DATASET \".center(125,'-'))\n",
    "    print('Rows:{}'.format(df.shape[0]))\n",
    "    print('Columns:{}'.format(df.shape[1]))\n",
    "    print(\" HEAD \".center(125,'-'))\n",
    "    print(df.head(head))\n",
    "    print(\"DATA TYPES\".center(125,'-'))\n",
    "    print(data.dtypes.value_counts())\n",
    "    print(\" MISSING VALUES \".center(125,'-'))\n",
    "    print(df.isnull().sum()[df.isnull().sum()>0].sort_values(ascending = False))\n",
    "    print(\" DUPLICATED VALUES \".center(125,'-'))\n",
    "    print(df.duplicated().sum())\n",
    "    print(\" STATISTICS OF DATA \".center(125,'-'))\n",
    "    print(df.describe(include=\"all\"))\n",
    "    print(\"DATA INFO\".center(125,'-'))\n",
    "    print(df.info())\n",
    "    \n",
    "    \n",
    "data_overview(data)"
   ]
  },
  {
   "cell_type": "markdown",
   "metadata": {},
   "source": [
    "<a id=\"4\"></a>\n",
    "<p style=\"background-color:#ff0000;font-family:Georgia;color:#ff0000;font-size:105%;text-align:center;border-radius:10px 10px;border-style: dotted;border-width:15px;border-color:#ff0000;\"></p>\n",
    "<style>\n",
    "    .header {\n",
    "        text-align: center;font-family: Georgia;font-size: 65%;color: purple;\n",
    "    }\n",
    "</style>\n",
    "\n",
    "<div class=\"header\">\n",
    "    <h1>Point to be noted</h1>\n",
    "</div>\n",
    "\n",
    "\n",
    "<div style=\"text-align: left;\">\n",
    "  <ul style=\"list-style-type: disc; font-family: Georgia; color: #000000; font-size: 110%;\">\n",
    "    <li>The Dataset has Rows: 1067371 & Columns:8</li>\n",
    "    <li>The Dataset has 3 types of columns: strings(5), integer(1), float(2)</li>\n",
    "    <li>The Dataset has Missing values in Customer ID (243007) and Description (4382)</li>\n",
    "    <li>Invoice starts with the 'c' needs to be cleaned as it is cancelled transaction</li>\n",
    "    <li>The Dataset has duplicates</li>\n",
    "    <li>Aslo check for negative value and outliers in Quantity and Price</li>\n",
    "  </ul>\n",
    "</div>\n"
   ]
  },
  {
   "cell_type": "markdown",
   "metadata": {},
   "source": [
    "<a id=\"4\"></a>\n",
    "<p style=\"background-color:#ff0000;font-family:Georgia;color:#ff0000;font-size:105%;text-align:center;border-radius:10px 10px;border-style: dotted;border-width:15px;border-color:#ff0000;\"></p>\n",
    "<h1 style=\"color:black;font-size:32px;font-family:Georgia;text-align:center;\">👨‍💻<strong>Data <strong style=\"color:#ff0000;font-size:30px;font-family:Georgia;\"><strong style=\"color:#ff0000;font-size:30px;font-family:Georgia;\">Wrangling</strong></strong></strong></strong>👨‍💻</h1>"
   ]
  },
  {
   "cell_type": "markdown",
   "metadata": {},
   "source": [
    "<h1 style=\"color:black;font-size:16px;font-family:Georgia;text-align:left;\">1️⃣<strong>Dealing with Missing values<strong>"
   ]
  },
  {
   "cell_type": "code",
   "execution_count": 317,
   "metadata": {
    "execution": {
     "iopub.execute_input": "2023-07-08T14:09:01.424839Z",
     "iopub.status.busy": "2023-07-08T14:09:01.424489Z",
     "iopub.status.idle": "2023-07-08T14:09:01.511672Z",
     "shell.execute_reply": "2023-07-08T14:09:01.510537Z",
     "shell.execute_reply.started": "2023-07-08T14:09:01.424806Z"
    }
   },
   "outputs": [
    {
     "name": "stdout",
     "output_type": "stream",
     "text": [
      "Shape of data before removing NaN's CustomerID (1067371, 8)\n",
      "Shape of data after removing NaN's CustomerID (824364, 8)\n"
     ]
    }
   ],
   "source": [
    "#  Removing NaN's in Customer ID\n",
    "print(\"Shape of data before removing NaN's CustomerID\",data.shape)\n",
    "data.dropna(subset=\"Customer ID\",axis=0,inplace=True)\n",
    "print(\"Shape of data after removing NaN's CustomerID\",data.shape)"
   ]
  },
  {
   "cell_type": "code",
   "execution_count": 318,
   "metadata": {
    "execution": {
     "iopub.execute_input": "2023-07-08T14:09:01.516803Z",
     "iopub.status.busy": "2023-07-08T14:09:01.516354Z",
     "iopub.status.idle": "2023-07-08T14:09:03.074580Z",
     "shell.execute_reply": "2023-07-08T14:09:03.073638Z",
     "shell.execute_reply.started": "2023-07-08T14:09:01.516768Z"
    }
   },
   "outputs": [
    {
     "name": "stdout",
     "output_type": "stream",
     "text": [
      "Missing values in each column after cleaning customerID :\n",
      " Invoice        0\n",
      "StockCode      0\n",
      "Description    0\n",
      "Quantity       0\n",
      "InvoiceDate    0\n",
      "Price          0\n",
      "Customer ID    0\n",
      "Country        0\n",
      "dtype: int64\n"
     ]
    }
   ],
   "source": [
    "print(\"Missing values in each column after cleaning customerID :\\n\",data.isnull().sum())"
   ]
  },
  {
   "cell_type": "markdown",
   "metadata": {},
   "source": [
    " <ul style=\"list-style-type: disc; font-family: Georgia; color: #006400; font-size: 110%;\">\n",
    "    <li>Data looks fine now. (luckily NaNs from Description was also alligned with missing customer ID)</li>"
   ]
  },
  {
   "cell_type": "markdown",
   "metadata": {},
   "source": [
    "<h1 style=\"color:black;font-size:16px;font-family:Georgia;text-align:left;\">2️⃣<strong>Removing cancelled products from invoice<strong>"
   ]
  },
  {
   "cell_type": "code",
   "execution_count": 319,
   "metadata": {
    "execution": {
     "iopub.execute_input": "2023-07-08T14:09:03.077292Z",
     "iopub.status.busy": "2023-07-08T14:09:03.076913Z",
     "iopub.status.idle": "2023-07-08T14:09:03.568951Z",
     "shell.execute_reply": "2023-07-08T14:09:03.567972Z",
     "shell.execute_reply.started": "2023-07-08T14:09:03.077257Z"
    }
   },
   "outputs": [
    {
     "name": "stdout",
     "output_type": "stream",
     "text": [
      "Dataset is free from cancelled products information\n"
     ]
    }
   ],
   "source": [
    "#using one's compliment operator (~) we can unselect all the Invoice column which doesnt contain \"C\".\n",
    "data = data[~data.Invoice.str.contains('C',na=False)]\n",
    "print(\"Dataset is free from cancelled products information\")"
   ]
  },
  {
   "cell_type": "markdown",
   "metadata": {},
   "source": [
    "<h1 style=\"color:black;font-size:16px;font-family:Georgia;text-align:left;\">3️⃣<strong>Removing Duplicates<strong>"
   ]
  },
  {
   "cell_type": "code",
   "execution_count": 320,
   "metadata": {
    "execution": {
     "iopub.execute_input": "2023-07-08T14:09:03.570806Z",
     "iopub.status.busy": "2023-07-08T14:09:03.570452Z",
     "iopub.status.idle": "2023-07-08T14:09:05.010128Z",
     "shell.execute_reply": "2023-07-08T14:09:05.008117Z",
     "shell.execute_reply.started": "2023-07-08T14:09:03.570773Z"
    }
   },
   "outputs": [
    {
     "name": "stdout",
     "output_type": "stream",
     "text": [
      "Number of duplicates before cleaning: 26125\n",
      "Number of duplicates after cleaning: 0\n"
     ]
    }
   ],
   "source": [
    "# Removing duplicates (Values in all columns are identical)\n",
    "print(\"Number of duplicates before cleaning:\",data.duplicated().sum())\n",
    "data = data.drop_duplicates(keep=\"first\")\n",
    "print(\"Number of duplicates after cleaning:\",data.duplicated().sum())"
   ]
  },
  {
   "cell_type": "markdown",
   "metadata": {},
   "source": [
    "<h1 style=\"color:black;font-size:16px;font-family:Georgia;text-align:left;\">4️⃣<strong>Checking for negative value<strong>"
   ]
  },
  {
   "cell_type": "code",
   "execution_count": 321,
   "metadata": {
    "execution": {
     "iopub.execute_input": "2023-07-08T14:09:05.011799Z",
     "iopub.status.busy": "2023-07-08T14:09:05.011428Z",
     "iopub.status.idle": "2023-07-08T14:09:05.023248Z",
     "shell.execute_reply": "2023-07-08T14:09:05.022121Z",
     "shell.execute_reply.started": "2023-07-08T14:09:05.011765Z"
    }
   },
   "outputs": [
    {
     "name": "stdout",
     "output_type": "stream",
     "text": [
      "Negative value in Quantity is: 0\n",
      "Negative value in Price is: 0\n"
     ]
    }
   ],
   "source": [
    "print(\"Negative value in Quantity is:\",(data.Quantity<0).sum())\n",
    "print(\"Negative value in Price is:\",(data.Price<0).sum())"
   ]
  },
  {
   "cell_type": "markdown",
   "metadata": {},
   "source": [
    "<h1 style=\"color:black;font-size:16px;font-family:Georgia;text-align:left;\">5️⃣<strong>Cleaning Outliers<strong>"
   ]
  },
  {
   "cell_type": "code",
   "execution_count": 322,
   "metadata": {
    "execution": {
     "iopub.execute_input": "2023-07-08T14:09:05.025431Z",
     "iopub.status.busy": "2023-07-08T14:09:05.024858Z",
     "iopub.status.idle": "2023-07-08T14:09:05.032963Z",
     "shell.execute_reply": "2023-07-08T14:09:05.031936Z",
     "shell.execute_reply.started": "2023-07-08T14:09:05.025397Z"
    }
   },
   "outputs": [],
   "source": [
    "#defining function to remove outliers w.r.t its thresholds\n",
    "def outlier_thresholds(dataframe, variable):\n",
    "    quartile1 = dataframe[variable].quantile(0.01)\n",
    "    quartile3 = dataframe[variable].quantile(0.99)\n",
    "    interquantile_range = quartile3 - quartile1\n",
    "    up_limit = quartile3 + 1.5 * interquantile_range\n",
    "    low_limit = quartile1 - 1.5 * interquantile_range\n",
    "    return up_limit, low_limit\n",
    "\n",
    "def replace_with_threshold(dataframe, variable):\n",
    "    up_limit, low_limit = outlier_thresholds(dataframe, variable)\n",
    "    # dataframe.loc[(dataframe[variable] < low_limit), variable] = low_limit\n",
    "    dataframe.loc[(dataframe[variable] > up_limit), variable] = up_limit"
   ]
  },
  {
   "cell_type": "code",
   "execution_count": 323,
   "metadata": {
    "execution": {
     "iopub.execute_input": "2023-07-08T14:09:05.034917Z",
     "iopub.status.busy": "2023-07-08T14:09:05.034560Z",
     "iopub.status.idle": "2023-07-08T14:09:05.611266Z",
     "shell.execute_reply": "2023-07-08T14:09:05.610358Z",
     "shell.execute_reply.started": "2023-07-08T14:09:05.034884Z"
    }
   },
   "outputs": [
    {
     "data": {
      "image/png": "[encoded data removed]",
      "text/plain": [
       "<Figure size 1440x360 with 2 Axes>"
      ]
     },
     "metadata": {
      "needs_background": "light"
     },
     "output_type": "display_data"
    }
   ],
   "source": [
    "# Observing them before removing outliers.\n",
    "f, ax = plt.subplots(2,1, figsize = (20,5))\n",
    "col_list = [\"Quantity\",\"Price\"]\n",
    "for i in range(0,2):\n",
    "    ax[i].boxplot(data[col_list[i]],flierprops = dict(marker = \"s\", markerfacecolor = \"red\"), vert = 0)\n",
    "plt.show()"
   ]
  },
  {
   "cell_type": "code",
   "execution_count": 324,
   "metadata": {
    "execution": {
     "iopub.execute_input": "2023-07-08T14:09:05.616832Z",
     "iopub.status.busy": "2023-07-08T14:09:05.616261Z",
     "iopub.status.idle": "2023-07-08T14:09:05.662177Z",
     "shell.execute_reply": "2023-07-08T14:09:05.661169Z",
     "shell.execute_reply.started": "2023-07-08T14:09:05.616800Z"
    }
   },
   "outputs": [],
   "source": [
    "# Applying the functions for remove the outlier.\n",
    "replace_with_threshold(data, \"Quantity\")\n",
    "replace_with_threshold(data, \"Price\")"
   ]
  },
  {
   "cell_type": "code",
   "execution_count": 325,
   "metadata": {
    "execution": {
     "iopub.execute_input": "2023-07-08T14:09:05.664588Z",
     "iopub.status.busy": "2023-07-08T14:09:05.663616Z",
     "iopub.status.idle": "2023-07-08T14:09:06.223446Z",
     "shell.execute_reply": "2023-07-08T14:09:06.222360Z",
     "shell.execute_reply.started": "2023-07-08T14:09:05.664550Z"
    }
   },
   "outputs": [
    {
     "data": {
      "image/png": "[encoded data removed]",
      "text/plain": [
       "<Figure size 1440x360 with 2 Axes>"
      ]
     },
     "metadata": {
      "needs_background": "light"
     },
     "output_type": "display_data"
    }
   ],
   "source": [
    "# Observing them after removing outliers.\n",
    "f, ax = plt.subplots(2,1, figsize = (20,5))\n",
    "for i in range(0,2):\n",
    "    ax[i].boxplot(data[col_list[i]],flierprops = dict(marker = \"s\", markerfacecolor = \"red\"), vert = 0)\n",
    "plt.show()"
   ]
  },
  {
   "cell_type": "markdown",
   "metadata": {},
   "source": [
    "<a id=\"5\"></a>\n",
    "<p style=\"background-color:#ff0000;font-family:Georgia;color:#ff0000;font-size:105%;text-align:center;border-radius:10px 10px;border-style: dotted;border-width:15px;border-color:#ff0000;\"></p>\n",
    "<h1 style=\"color:black;font-size:32px;font-family:Georgia;text-align:center;\">👨‍💻<strong>EDA <strong style=\"color:#ff0000;font-size:30px;font-family:Georgia;\"><strong style=\"color:#ff0000;font-size:30px;font-family:Georgia;\">: Feature Engineering</strong></strong></strong></strong>👨‍💻</h1>"
   ]
  },
  {
   "cell_type": "code",
   "execution_count": 326,
   "metadata": {
    "execution": {
     "iopub.execute_input": "2023-07-08T14:09:06.225830Z",
     "iopub.status.busy": "2023-07-08T14:09:06.224947Z",
     "iopub.status.idle": "2023-07-08T14:09:06.236785Z",
     "shell.execute_reply": "2023-07-08T14:09:06.235556Z",
     "shell.execute_reply.started": "2023-07-08T14:09:06.225791Z"
    }
   },
   "outputs": [],
   "source": [
    "#Creating new feature Revenue\n",
    "data[\"Revenue\"] = data[\"Quantity\"] * data[\"Price\"]"
   ]
  },
  {
   "cell_type": "code",
   "execution_count": 327,
   "metadata": {
    "execution": {
     "iopub.execute_input": "2023-07-08T14:09:06.239229Z",
     "iopub.status.busy": "2023-07-08T14:09:06.238560Z",
     "iopub.status.idle": "2023-07-08T14:09:06.418427Z",
     "shell.execute_reply": "2023-07-08T14:09:06.417418Z",
     "shell.execute_reply.started": "2023-07-08T14:09:06.239189Z"
    }
   },
   "outputs": [],
   "source": [
    "#Creating Features for RFM Model\n",
    "#Changing data type to datetime\n",
    "data['InvoiceDate'] = pd.to_datetime(data['InvoiceDate'])"
   ]
  },
  {
   "cell_type": "code",
   "execution_count": 328,
   "metadata": {
    "execution": {
     "iopub.execute_input": "2023-07-08T14:09:06.420368Z",
     "iopub.status.busy": "2023-07-08T14:09:06.420010Z",
     "iopub.status.idle": "2023-07-08T14:09:06.432831Z",
     "shell.execute_reply": "2023-07-08T14:09:06.431688Z",
     "shell.execute_reply.started": "2023-07-08T14:09:06.420336Z"
    }
   },
   "outputs": [
    {
     "name": "stdout",
     "output_type": "stream",
     "text": [
      "Max date : 2011-12-09 12:50:00\n",
      "Min date : 2009-12-01 07:45:00\n"
     ]
    }
   ],
   "source": [
    "print(\"Max date :\",data[\"InvoiceDate\"].max())\n",
    "print(\"Min date :\",data[\"InvoiceDate\"].min())"
   ]
  },
  {
   "cell_type": "code",
   "execution_count": 329,
   "metadata": {
    "execution": {
     "iopub.execute_input": "2023-07-08T14:09:06.435135Z",
     "iopub.status.busy": "2023-07-08T14:09:06.434388Z",
     "iopub.status.idle": "2023-07-08T14:09:08.249410Z",
     "shell.execute_reply": "2023-07-08T14:09:08.248408Z",
     "shell.execute_reply.started": "2023-07-08T14:09:06.435104Z"
    }
   },
   "outputs": [
    {
     "data": {
      "text/html": [
       "<style type=\"text/css\">\n",
       "#T_14ca9_row0_col0, #T_14ca9_row0_col1, #T_14ca9_row0_col2, #T_14ca9_row0_col3, #T_14ca9_row1_col0, #T_14ca9_row1_col1, #T_14ca9_row1_col2, #T_14ca9_row1_col3, #T_14ca9_row2_col0, #T_14ca9_row2_col1, #T_14ca9_row2_col2, #T_14ca9_row2_col3, #T_14ca9_row3_col0, #T_14ca9_row3_col1, #T_14ca9_row3_col2, #T_14ca9_row3_col3, #T_14ca9_row4_col0, #T_14ca9_row4_col1, #T_14ca9_row4_col2, #T_14ca9_row4_col3 {\n",
       "  background-color: #cd5c5c;\n",
       "  color: black;\n",
       "  border-color: black;\n",
       "}\n",
       "</style>\n",
       "<table id=\"T_14ca9\">\n",
       "  <thead>\n",
       "    <tr>\n",
       "      <th class=\"blank level0\" >&nbsp;</th>\n",
       "      <th id=\"T_14ca9_level0_col0\" class=\"col_heading level0 col0\" >Customer ID</th>\n",
       "      <th id=\"T_14ca9_level0_col1\" class=\"col_heading level0 col1\" >Recency</th>\n",
       "      <th id=\"T_14ca9_level0_col2\" class=\"col_heading level0 col2\" >Frequency</th>\n",
       "      <th id=\"T_14ca9_level0_col3\" class=\"col_heading level0 col3\" >Monetary</th>\n",
       "    </tr>\n",
       "  </thead>\n",
       "  <tbody>\n",
       "    <tr>\n",
       "      <th id=\"T_14ca9_level0_row0\" class=\"row_heading level0 row0\" >0</th>\n",
       "      <td id=\"T_14ca9_row0_col0\" class=\"data row0 col0\" >12346.000000</td>\n",
       "      <td id=\"T_14ca9_row0_col1\" class=\"data row0 col1\" >325</td>\n",
       "      <td id=\"T_14ca9_row0_col2\" class=\"data row0 col2\" >12</td>\n",
       "      <td id=\"T_14ca9_row0_col3\" class=\"data row0 col3\" >745.700000</td>\n",
       "    </tr>\n",
       "    <tr>\n",
       "      <th id=\"T_14ca9_level0_row1\" class=\"row_heading level0 row1\" >1</th>\n",
       "      <td id=\"T_14ca9_row1_col0\" class=\"data row1 col0\" >12347.000000</td>\n",
       "      <td id=\"T_14ca9_row1_col1\" class=\"data row1 col1\" >2</td>\n",
       "      <td id=\"T_14ca9_row1_col2\" class=\"data row1 col2\" >8</td>\n",
       "      <td id=\"T_14ca9_row1_col3\" class=\"data row1 col3\" >4921.530000</td>\n",
       "    </tr>\n",
       "    <tr>\n",
       "      <th id=\"T_14ca9_level0_row2\" class=\"row_heading level0 row2\" >2</th>\n",
       "      <td id=\"T_14ca9_row2_col0\" class=\"data row2 col0\" >12348.000000</td>\n",
       "      <td id=\"T_14ca9_row2_col1\" class=\"data row2 col1\" >75</td>\n",
       "      <td id=\"T_14ca9_row2_col2\" class=\"data row2 col2\" >5</td>\n",
       "      <td id=\"T_14ca9_row2_col3\" class=\"data row2 col3\" >1991.860000</td>\n",
       "    </tr>\n",
       "    <tr>\n",
       "      <th id=\"T_14ca9_level0_row3\" class=\"row_heading level0 row3\" >3</th>\n",
       "      <td id=\"T_14ca9_row3_col0\" class=\"data row3 col0\" >12349.000000</td>\n",
       "      <td id=\"T_14ca9_row3_col1\" class=\"data row3 col1\" >18</td>\n",
       "      <td id=\"T_14ca9_row3_col2\" class=\"data row3 col2\" >4</td>\n",
       "      <td id=\"T_14ca9_row3_col3\" class=\"data row3 col3\" >3786.500000</td>\n",
       "    </tr>\n",
       "    <tr>\n",
       "      <th id=\"T_14ca9_level0_row4\" class=\"row_heading level0 row4\" >4</th>\n",
       "      <td id=\"T_14ca9_row4_col0\" class=\"data row4 col0\" >12350.000000</td>\n",
       "      <td id=\"T_14ca9_row4_col1\" class=\"data row4 col1\" >310</td>\n",
       "      <td id=\"T_14ca9_row4_col2\" class=\"data row4 col2\" >1</td>\n",
       "      <td id=\"T_14ca9_row4_col3\" class=\"data row4 col3\" >331.340000</td>\n",
       "    </tr>\n",
       "  </tbody>\n",
       "</table>\n"
      ],
      "text/plain": [
       "<pandas.io.formats.style.Styler at 0x1c8800fd0d0>"
      ]
     },
     "execution_count": 329,
     "metadata": {},
     "output_type": "execute_result"
    }
   ],
   "source": [
    "#RFM Featuring\n",
    "\n",
    "#Set Latest date 2011-12-10 as last invoice date was 2011-12-09.\n",
    "Latest_Date = dt.datetime(2011,12,10)\n",
    "\n",
    "#Creating RFM features with subset of customerID\n",
    "RFM = data.groupby('Customer ID').agg({'InvoiceDate': lambda x: (Latest_Date - x.max()).days, \n",
    "                                                 'Invoice': lambda x: x.nunique(), \n",
    "                                                 \"Revenue\": lambda x: x.sum()})\n",
    "                                \n",
    "RFM['InvoiceDate'] = RFM['InvoiceDate'].astype(int)\n",
    "\n",
    "#Renaming column names to Recency, Frequency and Monetary\n",
    "RFM.rename(columns={'InvoiceDate': 'Recency', \n",
    "                         'Invoice': 'Frequency', \n",
    "                         'Revenue': 'Monetary'}, inplace=True)\n",
    "\n",
    "RFM.reset_index().head().style.set_properties(**{\"background-color\": \"#cd5c5c\",\"color\": \"black\", \"border-color\": \"black\"})"
   ]
  },
  {
   "cell_type": "markdown",
   "metadata": {},
   "source": [
    "<a id=\"6\"></a>\n",
    "<p style=\"background-color:#ff0000;font-family:Georgia;color:#ff0000;font-size:105%;text-align:center;border-radius:10px 10px;border-style: dotted;border-width:15px;border-color:#ff0000;\"></p>\n",
    "<h1 style=\"color:black;font-size:32px;font-family:Georgia;text-align:center;\">👨‍💻<strong>Introducing New Feature : <strong style=\"color:#ff0000;font-size:30px;font-family:Georgia;\"><strong style=\"color:#ff0000;font-size:30px;font-family:Georgia;\">Interpurchase-Time</strong></strong></strong></strong>👨‍💻</h1>\n",
    "\n",
    "\n",
    "\n",
    "<p style= \"font-family:Georgia;color:#000000;font-size:110%;text-align:center;\">The Fourth varibale of RFM, InterPurchase Time, is a measure of average time gap between total shopping trips by a customer. The Interpurchase Time is calcluted as fallows : </p>\n",
    "\n",
    "<p style= \"font-family:Georgia;color:#000000;font-size:110%;text-align:center;\">T = L/(F-1) = (Tn - T1)/(F-1) </p>\n",
    "\n",
    "<div style=\"text-align: left;\">\n",
    "  <ul style=\"list-style-type: disc; font-family: Georgia; color: #000000; font-size: 110%;\">\n",
    "    <li>T --> Interpurchase Time</li>\n",
    "    <li>L --> Shopping Cycle</li>\n",
    "    <li>F --> Frequency</li>\n",
    "    <li>T1 --> First purchase</li>\n",
    "    <li>Tn --> Last purchase</li>\n",
    "    \n",
    "      \n",
    "  </ul>\n",
    "</div>\n",
    "\n",
    "Note: We consider only those customers who made purchase more than once."
   ]
  },
  {
   "cell_type": "code",
   "execution_count": 330,
   "metadata": {
    "execution": {
     "iopub.execute_input": "2023-07-08T14:09:08.251181Z",
     "iopub.status.busy": "2023-07-08T14:09:08.250796Z",
     "iopub.status.idle": "2023-07-08T14:09:08.266294Z",
     "shell.execute_reply": "2023-07-08T14:09:08.265187Z",
     "shell.execute_reply.started": "2023-07-08T14:09:08.251146Z"
    }
   },
   "outputs": [
    {
     "data": {
      "text/html": [
       "<style type=\"text/css\">\n",
       "#T_8e047_row0_col0, #T_8e047_row0_col1, #T_8e047_row0_col2, #T_8e047_row1_col0, #T_8e047_row1_col1, #T_8e047_row1_col2, #T_8e047_row2_col0, #T_8e047_row2_col1, #T_8e047_row2_col2, #T_8e047_row3_col0, #T_8e047_row3_col1, #T_8e047_row3_col2, #T_8e047_row4_col0, #T_8e047_row4_col1, #T_8e047_row4_col2 {\n",
       "  background-color: #cd5c5c;\n",
       "  color: black;\n",
       "  border-color: black;\n",
       "}\n",
       "</style>\n",
       "<table id=\"T_8e047\">\n",
       "  <thead>\n",
       "    <tr>\n",
       "      <th class=\"blank level0\" >&nbsp;</th>\n",
       "      <th id=\"T_8e047_level0_col0\" class=\"col_heading level0 col0\" >Recency</th>\n",
       "      <th id=\"T_8e047_level0_col1\" class=\"col_heading level0 col1\" >Frequency</th>\n",
       "      <th id=\"T_8e047_level0_col2\" class=\"col_heading level0 col2\" >Monetary</th>\n",
       "    </tr>\n",
       "    <tr>\n",
       "      <th class=\"index_name level0\" >Customer ID</th>\n",
       "      <th class=\"blank col0\" >&nbsp;</th>\n",
       "      <th class=\"blank col1\" >&nbsp;</th>\n",
       "      <th class=\"blank col2\" >&nbsp;</th>\n",
       "    </tr>\n",
       "  </thead>\n",
       "  <tbody>\n",
       "    <tr>\n",
       "      <th id=\"T_8e047_level0_row0\" class=\"row_heading level0 row0\" >12346.000000</th>\n",
       "      <td id=\"T_8e047_row0_col0\" class=\"data row0 col0\" >325</td>\n",
       "      <td id=\"T_8e047_row0_col1\" class=\"data row0 col1\" >12</td>\n",
       "      <td id=\"T_8e047_row0_col2\" class=\"data row0 col2\" >745.700000</td>\n",
       "    </tr>\n",
       "    <tr>\n",
       "      <th id=\"T_8e047_level0_row1\" class=\"row_heading level0 row1\" >12347.000000</th>\n",
       "      <td id=\"T_8e047_row1_col0\" class=\"data row1 col0\" >2</td>\n",
       "      <td id=\"T_8e047_row1_col1\" class=\"data row1 col1\" >8</td>\n",
       "      <td id=\"T_8e047_row1_col2\" class=\"data row1 col2\" >4921.530000</td>\n",
       "    </tr>\n",
       "    <tr>\n",
       "      <th id=\"T_8e047_level0_row2\" class=\"row_heading level0 row2\" >12348.000000</th>\n",
       "      <td id=\"T_8e047_row2_col0\" class=\"data row2 col0\" >75</td>\n",
       "      <td id=\"T_8e047_row2_col1\" class=\"data row2 col1\" >5</td>\n",
       "      <td id=\"T_8e047_row2_col2\" class=\"data row2 col2\" >1991.860000</td>\n",
       "    </tr>\n",
       "    <tr>\n",
       "      <th id=\"T_8e047_level0_row3\" class=\"row_heading level0 row3\" >12349.000000</th>\n",
       "      <td id=\"T_8e047_row3_col0\" class=\"data row3 col0\" >18</td>\n",
       "      <td id=\"T_8e047_row3_col1\" class=\"data row3 col1\" >4</td>\n",
       "      <td id=\"T_8e047_row3_col2\" class=\"data row3 col2\" >3786.500000</td>\n",
       "    </tr>\n",
       "    <tr>\n",
       "      <th id=\"T_8e047_level0_row4\" class=\"row_heading level0 row4\" >12352.000000</th>\n",
       "      <td id=\"T_8e047_row4_col0\" class=\"data row4 col0\" >36</td>\n",
       "      <td id=\"T_8e047_row4_col1\" class=\"data row4 col1\" >10</td>\n",
       "      <td id=\"T_8e047_row4_col2\" class=\"data row4 col2\" >2098.940000</td>\n",
       "    </tr>\n",
       "  </tbody>\n",
       "</table>\n"
      ],
      "text/plain": [
       "<pandas.io.formats.style.Styler at 0x1c8be84fb80>"
      ]
     },
     "execution_count": 330,
     "metadata": {},
     "output_type": "execute_result"
    }
   ],
   "source": [
    "RFM = RFM[(RFM[\"Frequency\"]>1)]\n",
    "RFM.head().style.set_properties(**{\"background-color\": \"#cd5c5c\",\"color\": \"black\", \"border-color\": \"black\"})"
   ]
  },
  {
   "cell_type": "code",
   "execution_count": 331,
   "metadata": {
    "execution": {
     "iopub.execute_input": "2023-07-08T14:09:08.268051Z",
     "iopub.status.busy": "2023-07-08T14:09:08.267708Z",
     "iopub.status.idle": "2023-07-08T14:09:09.365709Z",
     "shell.execute_reply": "2023-07-08T14:09:09.364647Z",
     "shell.execute_reply.started": "2023-07-08T14:09:08.268005Z"
    }
   },
   "outputs": [],
   "source": [
    "Shopping_Cycle = data.groupby('Customer ID').agg({'InvoiceDate': lambda x: ((x.max() - x.min()).days)})"
   ]
  },
  {
   "cell_type": "code",
   "execution_count": 332,
   "metadata": {
    "execution": {
     "iopub.execute_input": "2023-07-08T14:09:09.367559Z",
     "iopub.status.busy": "2023-07-08T14:09:09.367199Z",
     "iopub.status.idle": "2023-07-08T14:09:09.381845Z",
     "shell.execute_reply": "2023-07-08T14:09:09.380911Z",
     "shell.execute_reply.started": "2023-07-08T14:09:09.367526Z"
    }
   },
   "outputs": [
    {
     "data": {
      "text/html": [
       "<style type=\"text/css\">\n",
       "#T_35015_row0_col0, #T_35015_row0_col1, #T_35015_row0_col2, #T_35015_row0_col3, #T_35015_row1_col0, #T_35015_row1_col1, #T_35015_row1_col2, #T_35015_row1_col3, #T_35015_row2_col0, #T_35015_row2_col1, #T_35015_row2_col2, #T_35015_row2_col3, #T_35015_row3_col0, #T_35015_row3_col1, #T_35015_row3_col2, #T_35015_row3_col3, #T_35015_row4_col0, #T_35015_row4_col1, #T_35015_row4_col2, #T_35015_row4_col3 {\n",
       "  background-color: #cd5c5c;\n",
       "  color: black;\n",
       "  border-color: black;\n",
       "}\n",
       "</style>\n",
       "<table id=\"T_35015\">\n",
       "  <thead>\n",
       "    <tr>\n",
       "      <th class=\"blank level0\" >&nbsp;</th>\n",
       "      <th id=\"T_35015_level0_col0\" class=\"col_heading level0 col0\" >Recency</th>\n",
       "      <th id=\"T_35015_level0_col1\" class=\"col_heading level0 col1\" >Frequency</th>\n",
       "      <th id=\"T_35015_level0_col2\" class=\"col_heading level0 col2\" >Monetary</th>\n",
       "      <th id=\"T_35015_level0_col3\" class=\"col_heading level0 col3\" >Shopping_Cycle</th>\n",
       "    </tr>\n",
       "    <tr>\n",
       "      <th class=\"index_name level0\" >Customer ID</th>\n",
       "      <th class=\"blank col0\" >&nbsp;</th>\n",
       "      <th class=\"blank col1\" >&nbsp;</th>\n",
       "      <th class=\"blank col2\" >&nbsp;</th>\n",
       "      <th class=\"blank col3\" >&nbsp;</th>\n",
       "    </tr>\n",
       "  </thead>\n",
       "  <tbody>\n",
       "    <tr>\n",
       "      <th id=\"T_35015_level0_row0\" class=\"row_heading level0 row0\" >12346.000000</th>\n",
       "      <td id=\"T_35015_row0_col0\" class=\"data row0 col0\" >325</td>\n",
       "      <td id=\"T_35015_row0_col1\" class=\"data row0 col1\" >12</td>\n",
       "      <td id=\"T_35015_row0_col2\" class=\"data row0 col2\" >745.700000</td>\n",
       "      <td id=\"T_35015_row0_col3\" class=\"data row0 col3\" >400</td>\n",
       "    </tr>\n",
       "    <tr>\n",
       "      <th id=\"T_35015_level0_row1\" class=\"row_heading level0 row1\" >12347.000000</th>\n",
       "      <td id=\"T_35015_row1_col0\" class=\"data row1 col0\" >2</td>\n",
       "      <td id=\"T_35015_row1_col1\" class=\"data row1 col1\" >8</td>\n",
       "      <td id=\"T_35015_row1_col2\" class=\"data row1 col2\" >4921.530000</td>\n",
       "      <td id=\"T_35015_row1_col3\" class=\"data row1 col3\" >402</td>\n",
       "    </tr>\n",
       "    <tr>\n",
       "      <th id=\"T_35015_level0_row2\" class=\"row_heading level0 row2\" >12348.000000</th>\n",
       "      <td id=\"T_35015_row2_col0\" class=\"data row2 col0\" >75</td>\n",
       "      <td id=\"T_35015_row2_col1\" class=\"data row2 col1\" >5</td>\n",
       "      <td id=\"T_35015_row2_col2\" class=\"data row2 col2\" >1991.860000</td>\n",
       "      <td id=\"T_35015_row2_col3\" class=\"data row2 col3\" >362</td>\n",
       "    </tr>\n",
       "    <tr>\n",
       "      <th id=\"T_35015_level0_row3\" class=\"row_heading level0 row3\" >12349.000000</th>\n",
       "      <td id=\"T_35015_row3_col0\" class=\"data row3 col0\" >18</td>\n",
       "      <td id=\"T_35015_row3_col1\" class=\"data row3 col1\" >4</td>\n",
       "      <td id=\"T_35015_row3_col2\" class=\"data row3 col2\" >3786.500000</td>\n",
       "      <td id=\"T_35015_row3_col3\" class=\"data row3 col3\" >570</td>\n",
       "    </tr>\n",
       "    <tr>\n",
       "      <th id=\"T_35015_level0_row4\" class=\"row_heading level0 row4\" >12352.000000</th>\n",
       "      <td id=\"T_35015_row4_col0\" class=\"data row4 col0\" >36</td>\n",
       "      <td id=\"T_35015_row4_col1\" class=\"data row4 col1\" >10</td>\n",
       "      <td id=\"T_35015_row4_col2\" class=\"data row4 col2\" >2098.940000</td>\n",
       "      <td id=\"T_35015_row4_col3\" class=\"data row4 col3\" >356</td>\n",
       "    </tr>\n",
       "  </tbody>\n",
       "</table>\n"
      ],
      "text/plain": [
       "<pandas.io.formats.style.Styler at 0x1c88127d190>"
      ]
     },
     "execution_count": 332,
     "metadata": {},
     "output_type": "execute_result"
    }
   ],
   "source": [
    "RFM[\"Shopping_Cycle\"] = Shopping_Cycle\n",
    "RFM.head().style.set_properties(**{\"background-color\": \"#cd5c5c\",\"color\": \"black\", \"border-color\": \"black\"})"
   ]
  },
  {
   "cell_type": "code",
   "execution_count": 333,
   "metadata": {
    "execution": {
     "iopub.execute_input": "2023-07-08T14:09:09.384199Z",
     "iopub.status.busy": "2023-07-08T14:09:09.383229Z",
     "iopub.status.idle": "2023-07-08T14:09:09.399755Z",
     "shell.execute_reply": "2023-07-08T14:09:09.398607Z",
     "shell.execute_reply.started": "2023-07-08T14:09:09.384164Z"
    }
   },
   "outputs": [
    {
     "data": {
      "text/html": [
       "<style type=\"text/css\">\n",
       "#T_bbe97_row0_col0, #T_bbe97_row0_col1, #T_bbe97_row0_col2, #T_bbe97_row0_col3, #T_bbe97_row1_col0, #T_bbe97_row1_col1, #T_bbe97_row1_col2, #T_bbe97_row1_col3, #T_bbe97_row2_col0, #T_bbe97_row2_col1, #T_bbe97_row2_col2, #T_bbe97_row2_col3, #T_bbe97_row3_col0, #T_bbe97_row3_col1, #T_bbe97_row3_col2, #T_bbe97_row3_col3, #T_bbe97_row4_col0, #T_bbe97_row4_col1, #T_bbe97_row4_col2, #T_bbe97_row4_col3 {\n",
       "  background-color: #cd5c5c;\n",
       "  color: black;\n",
       "  border-color: black;\n",
       "}\n",
       "</style>\n",
       "<table id=\"T_bbe97\">\n",
       "  <thead>\n",
       "    <tr>\n",
       "      <th class=\"blank level0\" >&nbsp;</th>\n",
       "      <th id=\"T_bbe97_level0_col0\" class=\"col_heading level0 col0\" >Recency</th>\n",
       "      <th id=\"T_bbe97_level0_col1\" class=\"col_heading level0 col1\" >Frequency</th>\n",
       "      <th id=\"T_bbe97_level0_col2\" class=\"col_heading level0 col2\" >Monetary</th>\n",
       "      <th id=\"T_bbe97_level0_col3\" class=\"col_heading level0 col3\" >Interpurchase_Time</th>\n",
       "    </tr>\n",
       "    <tr>\n",
       "      <th class=\"index_name level0\" >Customer ID</th>\n",
       "      <th class=\"blank col0\" >&nbsp;</th>\n",
       "      <th class=\"blank col1\" >&nbsp;</th>\n",
       "      <th class=\"blank col2\" >&nbsp;</th>\n",
       "      <th class=\"blank col3\" >&nbsp;</th>\n",
       "    </tr>\n",
       "  </thead>\n",
       "  <tbody>\n",
       "    <tr>\n",
       "      <th id=\"T_bbe97_level0_row0\" class=\"row_heading level0 row0\" >12346.000000</th>\n",
       "      <td id=\"T_bbe97_row0_col0\" class=\"data row0 col0\" >325</td>\n",
       "      <td id=\"T_bbe97_row0_col1\" class=\"data row0 col1\" >12</td>\n",
       "      <td id=\"T_bbe97_row0_col2\" class=\"data row0 col2\" >745.700000</td>\n",
       "      <td id=\"T_bbe97_row0_col3\" class=\"data row0 col3\" >33</td>\n",
       "    </tr>\n",
       "    <tr>\n",
       "      <th id=\"T_bbe97_level0_row1\" class=\"row_heading level0 row1\" >12347.000000</th>\n",
       "      <td id=\"T_bbe97_row1_col0\" class=\"data row1 col0\" >2</td>\n",
       "      <td id=\"T_bbe97_row1_col1\" class=\"data row1 col1\" >8</td>\n",
       "      <td id=\"T_bbe97_row1_col2\" class=\"data row1 col2\" >4921.530000</td>\n",
       "      <td id=\"T_bbe97_row1_col3\" class=\"data row1 col3\" >50</td>\n",
       "    </tr>\n",
       "    <tr>\n",
       "      <th id=\"T_bbe97_level0_row2\" class=\"row_heading level0 row2\" >12348.000000</th>\n",
       "      <td id=\"T_bbe97_row2_col0\" class=\"data row2 col0\" >75</td>\n",
       "      <td id=\"T_bbe97_row2_col1\" class=\"data row2 col1\" >5</td>\n",
       "      <td id=\"T_bbe97_row2_col2\" class=\"data row2 col2\" >1991.860000</td>\n",
       "      <td id=\"T_bbe97_row2_col3\" class=\"data row2 col3\" >72</td>\n",
       "    </tr>\n",
       "    <tr>\n",
       "      <th id=\"T_bbe97_level0_row3\" class=\"row_heading level0 row3\" >12349.000000</th>\n",
       "      <td id=\"T_bbe97_row3_col0\" class=\"data row3 col0\" >18</td>\n",
       "      <td id=\"T_bbe97_row3_col1\" class=\"data row3 col1\" >4</td>\n",
       "      <td id=\"T_bbe97_row3_col2\" class=\"data row3 col2\" >3786.500000</td>\n",
       "      <td id=\"T_bbe97_row3_col3\" class=\"data row3 col3\" >142</td>\n",
       "    </tr>\n",
       "    <tr>\n",
       "      <th id=\"T_bbe97_level0_row4\" class=\"row_heading level0 row4\" >12352.000000</th>\n",
       "      <td id=\"T_bbe97_row4_col0\" class=\"data row4 col0\" >36</td>\n",
       "      <td id=\"T_bbe97_row4_col1\" class=\"data row4 col1\" >10</td>\n",
       "      <td id=\"T_bbe97_row4_col2\" class=\"data row4 col2\" >2098.940000</td>\n",
       "      <td id=\"T_bbe97_row4_col3\" class=\"data row4 col3\" >35</td>\n",
       "    </tr>\n",
       "  </tbody>\n",
       "</table>\n"
      ],
      "text/plain": [
       "<pandas.io.formats.style.Styler at 0x1c881266400>"
      ]
     },
     "execution_count": 333,
     "metadata": {},
     "output_type": "execute_result"
    }
   ],
   "source": [
    "RFM[\"Interpurchase_Time\"] = RFM[\"Shopping_Cycle\"] // RFM[\"Frequency\"]\n",
    "RFMT = RFM[[\"Recency\",\"Frequency\",\"Monetary\",\"Interpurchase_Time\"]]\n",
    "RFMT.head().style.set_properties(**{\"background-color\": \"#cd5c5c\",\"color\": \"black\", \"border-color\": \"black\"})"
   ]
  },
  {
   "cell_type": "code",
   "execution_count": 334,
   "metadata": {},
   "outputs": [
    {
     "data": {
      "text/plain": [
       "count    4255.000000\n",
       "mean      142.181904\n",
       "std       168.613472\n",
       "min         0.000000\n",
       "25%        18.000000\n",
       "50%        59.000000\n",
       "75%       225.000000\n",
       "max       738.000000\n",
       "Name: Recency, dtype: float64"
      ]
     },
     "execution_count": 334,
     "metadata": {},
     "output_type": "execute_result"
    }
   ],
   "source": [
    "RFMT.Recency.describe()"
   ]
  },
  {
   "cell_type": "code",
   "execution_count": 335,
   "metadata": {},
   "outputs": [
    {
     "data": {
      "text/plain": [
       "Text(0.5, 1.0, 'Distribution of Recency')"
      ]
     },
     "execution_count": 335,
     "metadata": {},
     "output_type": "execute_result"
    },
    {
     "data": {
      "image/png": "[encoded data removed]",
      "text/plain": [
       "<Figure size 864x432 with 1 Axes>"
      ]
     },
     "metadata": {
      "needs_background": "light"
     },
     "output_type": "display_data"
    }
   ],
   "source": [
    "plt.figure(figsize=(12,6))\n",
    "sns.distplot(x=RFMT['Recency'])\n",
    "plt.title('Distribution of Recency')"
   ]
  },
  {
   "cell_type": "markdown",
   "metadata": {},
   "source": [
    "Recency distribution is right skewed"
   ]
  },
  {
   "cell_type": "code",
   "execution_count": 336,
   "metadata": {},
   "outputs": [
    {
     "data": {
      "text/plain": [
       "count    4255.000000\n",
       "mean        8.307638\n",
       "std        14.808496\n",
       "min         2.000000\n",
       "25%         3.000000\n",
       "50%         5.000000\n",
       "75%         9.000000\n",
       "max       398.000000\n",
       "Name: Frequency, dtype: float64"
      ]
     },
     "execution_count": 336,
     "metadata": {},
     "output_type": "execute_result"
    }
   ],
   "source": [
    "RFMT.Frequency.describe()"
   ]
  },
  {
   "cell_type": "code",
   "execution_count": 337,
   "metadata": {},
   "outputs": [
    {
     "data": {
      "text/plain": [
       "Text(0.5, 1.0, 'Distribution of Frequency')"
      ]
     },
     "execution_count": 337,
     "metadata": {},
     "output_type": "execute_result"
    },
    {
     "data": {
      "image/png": "[encoded data removed]",
      "text/plain": [
       "<Figure size 864x432 with 1 Axes>"
      ]
     },
     "metadata": {
      "needs_background": "light"
     },
     "output_type": "display_data"
    }
   ],
   "source": [
    "plt.figure(figsize=(12,6))\n",
    "sns.distplot(x=RFMT['Frequency'])\n",
    "plt.title('Distribution of Frequency')"
   ]
  },
  {
   "cell_type": "markdown",
   "metadata": {},
   "source": [
    "Frequency distribution is skewed to extreme right"
   ]
  },
  {
   "cell_type": "code",
   "execution_count": 338,
   "metadata": {},
   "outputs": [
    {
     "data": {
      "text/plain": [
       "count      4255.000000\n",
       "mean       3718.897597\n",
       "std       15530.562612\n",
       "min          24.350000\n",
       "25%         678.505000\n",
       "50%        1346.970000\n",
       "75%        3121.655000\n",
       "max      534839.920000\n",
       "Name: Monetary, dtype: float64"
      ]
     },
     "execution_count": 338,
     "metadata": {},
     "output_type": "execute_result"
    }
   ],
   "source": [
    "RFMT['Monetary'].describe()"
   ]
  },
  {
   "cell_type": "code",
   "execution_count": 339,
   "metadata": {},
   "outputs": [
    {
     "data": {
      "text/plain": [
       "Text(0.5, 1.0, 'Distribution of Monetary')"
      ]
     },
     "execution_count": 339,
     "metadata": {},
     "output_type": "execute_result"
    },
    {
     "data": {
      "image/png": "[encoded data removed]",
      "text/plain": [
       "<Figure size 864x432 with 1 Axes>"
      ]
     },
     "metadata": {
      "needs_background": "light"
     },
     "output_type": "display_data"
    }
   ],
   "source": [
    "plt.figure(figsize=(12,6))\n",
    "sns.distplot(x=RFMT['Monetary'])\n",
    "plt.title('Distribution of Monetary')"
   ]
  },
  {
   "cell_type": "markdown",
   "metadata": {},
   "source": [
    "Monetary distribution is skewed to extreme right"
   ]
  },
  {
   "cell_type": "code",
   "execution_count": 340,
   "metadata": {},
   "outputs": [
    {
     "data": {
      "text/plain": [
       "count    4255.000000\n",
       "mean       68.909048\n",
       "std        53.228344\n",
       "min         0.000000\n",
       "25%        30.000000\n",
       "50%        56.000000\n",
       "75%        94.000000\n",
       "max       357.000000\n",
       "Name: Interpurchase_Time, dtype: float64"
      ]
     },
     "execution_count": 340,
     "metadata": {},
     "output_type": "execute_result"
    }
   ],
   "source": [
    "RFMT['Interpurchase_Time'].describe()"
   ]
  },
  {
   "cell_type": "code",
   "execution_count": 341,
   "metadata": {},
   "outputs": [
    {
     "data": {
      "text/plain": [
       "Text(0.5, 1.0, 'Distribution of Interpurchase_Time')"
      ]
     },
     "execution_count": 341,
     "metadata": {},
     "output_type": "execute_result"
    },
    {
     "data": {
      "image/png": "[encoded data removed]",
      "text/plain": [
       "<Figure size 864x432 with 1 Axes>"
      ]
     },
     "metadata": {
      "needs_background": "light"
     },
     "output_type": "display_data"
    }
   ],
   "source": [
    "plt.figure(figsize=(12,6))\n",
    "sns.distplot(x=RFMT['Interpurchase_Time'])\n",
    "plt.title('Distribution of Interpurchase_Time')"
   ]
  },
  {
   "cell_type": "markdown",
   "metadata": {},
   "source": [
    "Interpurchase_Time distribution is skewed to right"
   ]
  },
  {
   "cell_type": "markdown",
   "metadata": {},
   "source": [
    "<h1 style=\"color:#adff2f;font-size:25px;font-family:Georgia;text-align:center;\"><strong>😀RFMT Model is ready for segmentation😀 <strong style=\"color:#adff2f;font-size:30px;font-family:Georgia;\"><strong </h1>"
   ]
  },
  {
   "cell_type": "markdown",
   "metadata": {},
   "source": [
    "<a id=\"7\"></a>\n",
    "<p style=\"background-color:#ff0000;font-family:Georgia;color:#ff0000;font-size:105%;text-align:center;border-radius:10px 10px;border-style: dotted;border-width:15px;border-color:#ff0000;\"></p>\n",
    "<h1 style=\"color:black;font-size:32px;font-family:Georgia;text-align:center;\">👨•💻<strong>Modelling  <strong style=\"color:#ff0000;font-size:30px;font-family:Georgia;\"><strong style=\"color:#ff0000;font-size:30px;font-family:Georgia;\">with KMeans Algorithm</strong></strong></strong></strong>👨•💻</h1>"
   ]
  },
  {
   "cell_type": "code",
   "execution_count": 342,
   "metadata": {},
   "outputs": [
    {
     "name": "stdout",
     "output_type": "stream",
     "text": [
      "For n_clusters = 2, silhouette score is 0.9847564017057793\n",
      "For n_clusters = 3, silhouette score is 0.9520197108885946\n",
      "For n_clusters = 4, silhouette score is 0.9018816030056632\n",
      "For n_clusters = 5, silhouette score is 0.8080428286346221\n",
      "For n_clusters = 6, silhouette score is 0.8003793650040743\n",
      "For n_clusters = 7, silhouette score is 0.7331921774616406\n",
      "For n_clusters = 8, silhouette score is 0.7348204669973117\n",
      "For n_clusters = 9, silhouette score is 0.6623240224783083\n",
      "For n_clusters = 10, silhouette score is 0.6714404048162055\n",
      "For n_clusters = 11, silhouette score is 0.6273319945144985\n",
      "For n_clusters = 12, silhouette score is 0.6119808383087695\n",
      "For n_clusters = 13, silhouette score is 0.5945814752628504\n",
      "For n_clusters = 14, silhouette score is 0.575093901929843\n",
      "For n_clusters = 15, silhouette score is 0.5472615142512791\n"
     ]
    }
   ],
   "source": [
    "# # Finding initial K value using Silhouette Score\n",
    "range_n_clusters = [2,3,4,5,6,7,8,9,10,11,12,13,14,15]  # Taking random range till 15.\n",
    "for n_clusters in range_n_clusters:\n",
    "    clusterer = KMeans(n_clusters=n_clusters,random_state=1)\n",
    "    preds = clusterer.fit_predict(RFMT)\n",
    "    centers = clusterer.cluster_centers_\n",
    "\n",
    "    score = silhouette_score(RFMT, preds)\n",
    "    print(\"For n_clusters = {}, silhouette score is {}\".format(n_clusters, score))"
   ]
  },
  {
   "cell_type": "code",
   "execution_count": 343,
   "metadata": {
    "execution": {
     "iopub.execute_input": "2023-07-08T14:09:11.372054Z",
     "iopub.status.busy": "2023-07-08T14:09:11.370161Z",
     "iopub.status.idle": "2023-07-08T14:09:11.568778Z",
     "shell.execute_reply": "2023-07-08T14:09:11.567695Z",
     "shell.execute_reply.started": "2023-07-08T14:09:11.372019Z"
    }
   },
   "outputs": [
    {
     "data": {
      "text/plain": [
       "KMeans(max_iter=50, n_clusters=2)"
      ]
     },
     "execution_count": 343,
     "metadata": {},
     "output_type": "execute_result"
    }
   ],
   "source": [
    "# K =2 for silhouette score is 0.9847564017057793\n",
    "#Fitting KMeans Model\n",
    "kmeans = KMeans(n_clusters=2,max_iter=50)\n",
    "kmeans.fit(RFMT)"
   ]
  },
  {
   "cell_type": "code",
   "execution_count": 344,
   "metadata": {
    "execution": {
     "iopub.execute_input": "2023-07-08T14:09:11.576768Z",
     "iopub.status.busy": "2023-07-08T14:09:11.573725Z",
     "iopub.status.idle": "2023-07-08T14:09:11.617138Z",
     "shell.execute_reply": "2023-07-08T14:09:11.615981Z",
     "shell.execute_reply.started": "2023-07-08T14:09:11.576718Z"
    }
   },
   "outputs": [
    {
     "data": {
      "text/html": [
       "<style type=\"text/css\">\n",
       "#T_e7f8e_row0_col0, #T_e7f8e_row0_col1, #T_e7f8e_row0_col2, #T_e7f8e_row0_col3, #T_e7f8e_row0_col4, #T_e7f8e_row1_col0, #T_e7f8e_row1_col1, #T_e7f8e_row1_col2, #T_e7f8e_row1_col3, #T_e7f8e_row1_col4, #T_e7f8e_row2_col0, #T_e7f8e_row2_col1, #T_e7f8e_row2_col2, #T_e7f8e_row2_col3, #T_e7f8e_row2_col4, #T_e7f8e_row3_col0, #T_e7f8e_row3_col1, #T_e7f8e_row3_col2, #T_e7f8e_row3_col3, #T_e7f8e_row3_col4, #T_e7f8e_row4_col0, #T_e7f8e_row4_col1, #T_e7f8e_row4_col2, #T_e7f8e_row4_col3, #T_e7f8e_row4_col4 {\n",
       "  background-color: #cd5c5c;\n",
       "  color: black;\n",
       "  border-color: black;\n",
       "}\n",
       "</style>\n",
       "<table id=\"T_e7f8e\">\n",
       "  <thead>\n",
       "    <tr>\n",
       "      <th class=\"blank level0\" >&nbsp;</th>\n",
       "      <th id=\"T_e7f8e_level0_col0\" class=\"col_heading level0 col0\" >Recency</th>\n",
       "      <th id=\"T_e7f8e_level0_col1\" class=\"col_heading level0 col1\" >Frequency</th>\n",
       "      <th id=\"T_e7f8e_level0_col2\" class=\"col_heading level0 col2\" >Monetary</th>\n",
       "      <th id=\"T_e7f8e_level0_col3\" class=\"col_heading level0 col3\" >Interpurchase_Time</th>\n",
       "      <th id=\"T_e7f8e_level0_col4\" class=\"col_heading level0 col4\" >Clusters</th>\n",
       "    </tr>\n",
       "    <tr>\n",
       "      <th class=\"index_name level0\" >Customer ID</th>\n",
       "      <th class=\"blank col0\" >&nbsp;</th>\n",
       "      <th class=\"blank col1\" >&nbsp;</th>\n",
       "      <th class=\"blank col2\" >&nbsp;</th>\n",
       "      <th class=\"blank col3\" >&nbsp;</th>\n",
       "      <th class=\"blank col4\" >&nbsp;</th>\n",
       "    </tr>\n",
       "  </thead>\n",
       "  <tbody>\n",
       "    <tr>\n",
       "      <th id=\"T_e7f8e_level0_row0\" class=\"row_heading level0 row0\" >12346.000000</th>\n",
       "      <td id=\"T_e7f8e_row0_col0\" class=\"data row0 col0\" >325</td>\n",
       "      <td id=\"T_e7f8e_row0_col1\" class=\"data row0 col1\" >12</td>\n",
       "      <td id=\"T_e7f8e_row0_col2\" class=\"data row0 col2\" >745.700000</td>\n",
       "      <td id=\"T_e7f8e_row0_col3\" class=\"data row0 col3\" >33</td>\n",
       "      <td id=\"T_e7f8e_row0_col4\" class=\"data row0 col4\" >0</td>\n",
       "    </tr>\n",
       "    <tr>\n",
       "      <th id=\"T_e7f8e_level0_row1\" class=\"row_heading level0 row1\" >12347.000000</th>\n",
       "      <td id=\"T_e7f8e_row1_col0\" class=\"data row1 col0\" >2</td>\n",
       "      <td id=\"T_e7f8e_row1_col1\" class=\"data row1 col1\" >8</td>\n",
       "      <td id=\"T_e7f8e_row1_col2\" class=\"data row1 col2\" >4921.530000</td>\n",
       "      <td id=\"T_e7f8e_row1_col3\" class=\"data row1 col3\" >50</td>\n",
       "      <td id=\"T_e7f8e_row1_col4\" class=\"data row1 col4\" >0</td>\n",
       "    </tr>\n",
       "    <tr>\n",
       "      <th id=\"T_e7f8e_level0_row2\" class=\"row_heading level0 row2\" >12348.000000</th>\n",
       "      <td id=\"T_e7f8e_row2_col0\" class=\"data row2 col0\" >75</td>\n",
       "      <td id=\"T_e7f8e_row2_col1\" class=\"data row2 col1\" >5</td>\n",
       "      <td id=\"T_e7f8e_row2_col2\" class=\"data row2 col2\" >1991.860000</td>\n",
       "      <td id=\"T_e7f8e_row2_col3\" class=\"data row2 col3\" >72</td>\n",
       "      <td id=\"T_e7f8e_row2_col4\" class=\"data row2 col4\" >0</td>\n",
       "    </tr>\n",
       "    <tr>\n",
       "      <th id=\"T_e7f8e_level0_row3\" class=\"row_heading level0 row3\" >12349.000000</th>\n",
       "      <td id=\"T_e7f8e_row3_col0\" class=\"data row3 col0\" >18</td>\n",
       "      <td id=\"T_e7f8e_row3_col1\" class=\"data row3 col1\" >4</td>\n",
       "      <td id=\"T_e7f8e_row3_col2\" class=\"data row3 col2\" >3786.500000</td>\n",
       "      <td id=\"T_e7f8e_row3_col3\" class=\"data row3 col3\" >142</td>\n",
       "      <td id=\"T_e7f8e_row3_col4\" class=\"data row3 col4\" >0</td>\n",
       "    </tr>\n",
       "    <tr>\n",
       "      <th id=\"T_e7f8e_level0_row4\" class=\"row_heading level0 row4\" >12352.000000</th>\n",
       "      <td id=\"T_e7f8e_row4_col0\" class=\"data row4 col0\" >36</td>\n",
       "      <td id=\"T_e7f8e_row4_col1\" class=\"data row4 col1\" >10</td>\n",
       "      <td id=\"T_e7f8e_row4_col2\" class=\"data row4 col2\" >2098.940000</td>\n",
       "      <td id=\"T_e7f8e_row4_col3\" class=\"data row4 col3\" >35</td>\n",
       "      <td id=\"T_e7f8e_row4_col4\" class=\"data row4 col4\" >0</td>\n",
       "    </tr>\n",
       "  </tbody>\n",
       "</table>\n"
      ],
      "text/plain": [
       "<pandas.io.formats.style.Styler at 0x1c88204e7f0>"
      ]
     },
     "execution_count": 344,
     "metadata": {},
     "output_type": "execute_result"
    }
   ],
   "source": [
    "RFMT[\"Clusters\"]=kmeans.labels_\n",
    "RFMT.head().style.set_properties(**{\"background-color\": \"#cd5c5c\",\"color\": \"black\", \"border-color\": \"black\"})"
   ]
  },
  {
   "cell_type": "markdown",
   "metadata": {
    "execution": {
     "iopub.execute_input": "2023-07-08T13:07:42.913964Z",
     "iopub.status.busy": "2023-07-08T13:07:42.913316Z",
     "iopub.status.idle": "2023-07-08T13:07:42.921315Z",
     "shell.execute_reply": "2023-07-08T13:07:42.920008Z",
     "shell.execute_reply.started": "2023-07-08T13:07:42.913930Z"
    }
   },
   "source": [
    "<a id=\"8\"></a>\n",
    "<p style=\"background-color:#ff0000;font-family:Georgia;color:#ff0000;font-size:105%;text-align:center;border-radius:10px 10px;border-style: dotted;border-width:15px;border-color:#ff0000;\"></p>\n",
    "<h1 style=\"color:black;font-size:32px;font-family:Georgia;text-align:center;\">👨‍💻<strong> Model : <strong style=\"color:#ff0000;font-size:30px;font-family:Georgia;\"><strong style=\"color:#ff0000;font-size:30px;font-family:Georgia;\">Evaluation</strong></strong></strong></strong>👨‍💻</h1>"
   ]
  },
  {
   "cell_type": "code",
   "execution_count": 345,
   "metadata": {
    "execution": {
     "iopub.execute_input": "2023-07-08T14:09:11.623209Z",
     "iopub.status.busy": "2023-07-08T14:09:11.622635Z",
     "iopub.status.idle": "2023-07-08T14:09:11.634571Z",
     "shell.execute_reply": "2023-07-08T14:09:11.633408Z",
     "shell.execute_reply.started": "2023-07-08T14:09:11.623161Z"
    }
   },
   "outputs": [
    {
     "data": {
      "text/plain": [
       "array([[1.42410546e+02, 8.06120527e+00, 3.21545023e+03, 6.90134181e+01],\n",
       "       [3.42857143e+00, 1.57857143e+02, 3.09239529e+05, 5.57142857e+00]])"
      ]
     },
     "execution_count": 345,
     "metadata": {},
     "output_type": "execute_result"
    }
   ],
   "source": [
    "# how well the clusters are?:\n",
    "#centriods\n",
    "kmeans.cluster_centers_"
   ]
  },
  {
   "cell_type": "code",
   "execution_count": 346,
   "metadata": {
    "execution": {
     "iopub.execute_input": "2023-07-08T14:09:11.637249Z",
     "iopub.status.busy": "2023-07-08T14:09:11.636522Z",
     "iopub.status.idle": "2023-07-08T14:09:12.066945Z",
     "shell.execute_reply": "2023-07-08T14:09:12.066059Z",
     "shell.execute_reply.started": "2023-07-08T14:09:11.637205Z"
    }
   },
   "outputs": [
    {
     "data": {
      "text/plain": [
       "<function matplotlib.pyplot.show(close=None, block=None)>"
      ]
     },
     "execution_count": 346,
     "metadata": {},
     "output_type": "execute_result"
    },
    {
     "data": {
      "image/png": "[encoded data removed]",
      "text/plain": [
       "<Figure size 720x360 with 1 Axes>"
      ]
     },
     "metadata": {
      "needs_background": "light"
     },
     "output_type": "display_data"
    }
   ],
   "source": [
    "# grouping the data in accorandance with each cluster seperately\n",
    "one = RFMT[RFMT[\"Clusters\"]==0]\n",
    "two = RFMT[RFMT[\"Clusters\"]==1]\n",
    "\n",
    "\n",
    "#Checking the quality of clustering in the data set\n",
    "plt.figure(figsize=(10,5))\n",
    "ax = plt.axes()\n",
    "ax.set_facecolor(\"#cd5c5c\")\n",
    "plt.scatter(one[\"Recency\"],one[\"Frequency\"],color='green')\n",
    "plt.scatter(two[\"Recency\"],two[\"Frequency\"],color='red')\n",
    "\n",
    "plt.scatter(kmeans.cluster_centers_[:,0],kmeans.cluster_centers_[:,1],color=\"yellow\",marker=\"*\",label=\"centroid\")\n",
    "plt.legend()\n",
    "plt.show "
   ]
  },
  {
   "cell_type": "code",
   "execution_count": 347,
   "metadata": {},
   "outputs": [
    {
     "data": {
      "text/html": [
       "<div>\n",
       "<style scoped>\n",
       "    .dataframe tbody tr th:only-of-type {\n",
       "        vertical-align: middle;\n",
       "    }\n",
       "\n",
       "    .dataframe tbody tr th {\n",
       "        vertical-align: top;\n",
       "    }\n",
       "\n",
       "    .dataframe thead th {\n",
       "        text-align: right;\n",
       "    }\n",
       "</style>\n",
       "<table border=\"1\" class=\"dataframe\">\n",
       "  <thead>\n",
       "    <tr style=\"text-align: right;\">\n",
       "      <th></th>\n",
       "      <th>Recency</th>\n",
       "      <th>Frequency</th>\n",
       "      <th>Monetary</th>\n",
       "      <th>Interpurchase_Time</th>\n",
       "      <th>Clusters</th>\n",
       "    </tr>\n",
       "    <tr>\n",
       "      <th>Customer ID</th>\n",
       "      <th></th>\n",
       "      <th></th>\n",
       "      <th></th>\n",
       "      <th></th>\n",
       "      <th></th>\n",
       "    </tr>\n",
       "  </thead>\n",
       "  <tbody>\n",
       "    <tr>\n",
       "      <th>12346.0</th>\n",
       "      <td>325</td>\n",
       "      <td>12</td>\n",
       "      <td>745.70</td>\n",
       "      <td>33</td>\n",
       "      <td>0</td>\n",
       "    </tr>\n",
       "    <tr>\n",
       "      <th>12347.0</th>\n",
       "      <td>2</td>\n",
       "      <td>8</td>\n",
       "      <td>4921.53</td>\n",
       "      <td>50</td>\n",
       "      <td>0</td>\n",
       "    </tr>\n",
       "    <tr>\n",
       "      <th>12348.0</th>\n",
       "      <td>75</td>\n",
       "      <td>5</td>\n",
       "      <td>1991.86</td>\n",
       "      <td>72</td>\n",
       "      <td>0</td>\n",
       "    </tr>\n",
       "    <tr>\n",
       "      <th>12349.0</th>\n",
       "      <td>18</td>\n",
       "      <td>4</td>\n",
       "      <td>3786.50</td>\n",
       "      <td>142</td>\n",
       "      <td>0</td>\n",
       "    </tr>\n",
       "    <tr>\n",
       "      <th>12352.0</th>\n",
       "      <td>36</td>\n",
       "      <td>10</td>\n",
       "      <td>2098.94</td>\n",
       "      <td>35</td>\n",
       "      <td>0</td>\n",
       "    </tr>\n",
       "  </tbody>\n",
       "</table>\n",
       "</div>"
      ],
      "text/plain": [
       "             Recency  Frequency  Monetary  Interpurchase_Time  Clusters\n",
       "Customer ID                                                            \n",
       "12346.0          325         12    745.70                  33         0\n",
       "12347.0            2          8   4921.53                  50         0\n",
       "12348.0           75          5   1991.86                  72         0\n",
       "12349.0           18          4   3786.50                 142         0\n",
       "12352.0           36         10   2098.94                  35         0"
      ]
     },
     "execution_count": 347,
     "metadata": {},
     "output_type": "execute_result"
    }
   ],
   "source": [
    "RFMT.head(5)"
   ]
  },
  {
   "cell_type": "code",
   "execution_count": 348,
   "metadata": {},
   "outputs": [
    {
     "data": {
      "text/plain": [
       "Text(0.5, 1.0, 'Recency v/s Clusters')"
      ]
     },
     "execution_count": 348,
     "metadata": {},
     "output_type": "execute_result"
    },
    {
     "data": {
      "image/png": "[encoded data removed]",
      "text/plain": [
       "<Figure size 576x288 with 1 Axes>"
      ]
     },
     "metadata": {},
     "output_type": "display_data"
    }
   ],
   "source": [
    "sns.set(rc={\"figure.figsize\":(8, 4)})\n",
    "sns.boxplot(x=\"Clusters\",y=\"Recency\",data=RFMT).set_title(\"Recency v/s Clusters\")"
   ]
  },
  {
   "cell_type": "code",
   "execution_count": 349,
   "metadata": {},
   "outputs": [
    {
     "data": {
      "text/plain": [
       "Text(0.5, 1.0, 'Frequency v/s Clusters')"
      ]
     },
     "execution_count": 349,
     "metadata": {},
     "output_type": "execute_result"
    },
    {
     "data": {
      "image/png": "[encoded data removed]",
      "text/plain": [
       "<Figure size 576x288 with 1 Axes>"
      ]
     },
     "metadata": {},
     "output_type": "display_data"
    }
   ],
   "source": [
    "sns.set(rc={\"figure.figsize\":(8, 4)})\n",
    "sns.boxplot(x=\"Clusters\",y=\"Frequency\",data=RFMT).set_title(\"Frequency v/s Clusters\")"
   ]
  },
  {
   "cell_type": "code",
   "execution_count": 350,
   "metadata": {},
   "outputs": [
    {
     "data": {
      "text/plain": [
       "Text(0.5, 1.0, 'Monetary v/s Clusters')"
      ]
     },
     "execution_count": 350,
     "metadata": {},
     "output_type": "execute_result"
    },
    {
     "data": {
      "image/png": "[encoded data removed]",
      "text/plain": [
       "<Figure size 576x288 with 1 Axes>"
      ]
     },
     "metadata": {},
     "output_type": "display_data"
    }
   ],
   "source": [
    "sns.set(rc={\"figure.figsize\":(8, 4)})\n",
    "sns.boxplot(x=\"Clusters\",y=\"Monetary\",data=RFMT).set_title(\"Monetary v/s Clusters\")"
   ]
  },
  {
   "cell_type": "code",
   "execution_count": 351,
   "metadata": {},
   "outputs": [
    {
     "data": {
      "text/plain": [
       "Text(0.5, 1.0, 'Interpurchase_Time v/s Clusters')"
      ]
     },
     "execution_count": 351,
     "metadata": {},
     "output_type": "execute_result"
    },
    {
     "data": {
      "image/png": "[encoded data removed]",
      "text/plain": [
       "<Figure size 576x288 with 1 Axes>"
      ]
     },
     "metadata": {},
     "output_type": "display_data"
    }
   ],
   "source": [
    "sns.set(rc={\"figure.figsize\":(8, 4)})\n",
    "sns.boxplot(x=\"Clusters\",y=\"Interpurchase_Time\",data=RFMT).set_title(\"Interpurchase_Time v/s Clusters\")"
   ]
  },
  {
   "cell_type": "markdown",
   "metadata": {},
   "source": [
    "<p style= \"font-family:Georgia;color:black;font-size:20px;text-align:center;\">Silhouette Coefficient or silhouette score is a metric used to calculate the goodness of a clustering technique. Its value ranges from -1 to 1. \n",
    "    Score closer to 1, higher the cluster distinguished. </p>"
   ]
  },
  {
   "cell_type": "code",
   "execution_count": 352,
   "metadata": {
    "execution": {
     "iopub.execute_input": "2023-07-08T14:09:12.068889Z",
     "iopub.status.busy": "2023-07-08T14:09:12.068552Z",
     "iopub.status.idle": "2023-07-08T14:09:12.408851Z",
     "shell.execute_reply": "2023-07-08T14:09:12.407858Z",
     "shell.execute_reply.started": "2023-07-08T14:09:12.068857Z"
    }
   },
   "outputs": [
    {
     "name": "stdout",
     "output_type": "stream",
     "text": [
      "Silhouette score : 0.9847564017059128\n"
     ]
    }
   ],
   "source": [
    "from sklearn.metrics import silhouette_score\n",
    "print(\"Silhouette score :\",silhouette_score(RFMT, kmeans.labels_, metric='euclidean'))"
   ]
  },
  {
   "cell_type": "markdown",
   "metadata": {},
   "source": [
    "<p style= \"font-family:Georgia;color:black;font-size:20px;text-align:center;\">Silhouette score of 0.984 proves that the cluster obtained are well classified. The data points in same group possess similar behaviour than the data point of other group.  </p>"
   ]
  },
  {
   "cell_type": "markdown",
   "metadata": {},
   "source": [
    "<a id=\"8\"></a>\n",
    "<p style=\"background-color:#ff0000;font-family:Georgia;color:#ff0000;font-size:105%;text-align:center;border-radius:10px 10px;border-style: dotted;border-width:15px;border-color:#ff0000;\"></p>\n",
    "<h1 style=\"color:black;font-size:32px;font-family:Georgia;text-align:center;\">👨‍💻<strong> Segment : <strong style=\"color:#ff0000;font-size:30px;font-family:Georgia;\"><strong style=\"color:#ff0000;font-size:30px;font-family:Georgia;\">Scoring</strong></strong></strong></strong>👨‍💻</h1>"
   ]
  },
  {
   "cell_type": "code",
   "execution_count": 353,
   "metadata": {},
   "outputs": [
    {
     "data": {
      "text/html": [
       "<div>\n",
       "<style scoped>\n",
       "    .dataframe tbody tr th:only-of-type {\n",
       "        vertical-align: middle;\n",
       "    }\n",
       "\n",
       "    .dataframe tbody tr th {\n",
       "        vertical-align: top;\n",
       "    }\n",
       "\n",
       "    .dataframe thead th {\n",
       "        text-align: right;\n",
       "    }\n",
       "</style>\n",
       "<table border=\"1\" class=\"dataframe\">\n",
       "  <thead>\n",
       "    <tr style=\"text-align: right;\">\n",
       "      <th></th>\n",
       "      <th>Recency</th>\n",
       "      <th>Frequency</th>\n",
       "      <th>Monetary</th>\n",
       "      <th>Interpurchase_Time</th>\n",
       "      <th>Clusters</th>\n",
       "      <th>r_score</th>\n",
       "      <th>f_score</th>\n",
       "      <th>m_score</th>\n",
       "      <th>RFMT SCORE</th>\n",
       "    </tr>\n",
       "    <tr>\n",
       "      <th>Customer ID</th>\n",
       "      <th></th>\n",
       "      <th></th>\n",
       "      <th></th>\n",
       "      <th></th>\n",
       "      <th></th>\n",
       "      <th></th>\n",
       "      <th></th>\n",
       "      <th></th>\n",
       "      <th></th>\n",
       "    </tr>\n",
       "  </thead>\n",
       "  <tbody>\n",
       "    <tr>\n",
       "      <th>12346.0</th>\n",
       "      <td>325</td>\n",
       "      <td>12</td>\n",
       "      <td>745.70</td>\n",
       "      <td>33</td>\n",
       "      <td>0</td>\n",
       "      <td>3</td>\n",
       "      <td>1</td>\n",
       "      <td>1</td>\n",
       "      <td>31</td>\n",
       "    </tr>\n",
       "    <tr>\n",
       "      <th>12347.0</th>\n",
       "      <td>2</td>\n",
       "      <td>8</td>\n",
       "      <td>4921.53</td>\n",
       "      <td>50</td>\n",
       "      <td>0</td>\n",
       "      <td>5</td>\n",
       "      <td>1</td>\n",
       "      <td>1</td>\n",
       "      <td>51</td>\n",
       "    </tr>\n",
       "    <tr>\n",
       "      <th>12348.0</th>\n",
       "      <td>75</td>\n",
       "      <td>5</td>\n",
       "      <td>1991.86</td>\n",
       "      <td>72</td>\n",
       "      <td>0</td>\n",
       "      <td>5</td>\n",
       "      <td>1</td>\n",
       "      <td>1</td>\n",
       "      <td>51</td>\n",
       "    </tr>\n",
       "    <tr>\n",
       "      <th>12349.0</th>\n",
       "      <td>18</td>\n",
       "      <td>4</td>\n",
       "      <td>3786.50</td>\n",
       "      <td>142</td>\n",
       "      <td>0</td>\n",
       "      <td>5</td>\n",
       "      <td>1</td>\n",
       "      <td>1</td>\n",
       "      <td>51</td>\n",
       "    </tr>\n",
       "    <tr>\n",
       "      <th>12352.0</th>\n",
       "      <td>36</td>\n",
       "      <td>10</td>\n",
       "      <td>2098.94</td>\n",
       "      <td>35</td>\n",
       "      <td>0</td>\n",
       "      <td>5</td>\n",
       "      <td>1</td>\n",
       "      <td>1</td>\n",
       "      <td>51</td>\n",
       "    </tr>\n",
       "  </tbody>\n",
       "</table>\n",
       "</div>"
      ],
      "text/plain": [
       "             Recency  Frequency  Monetary  Interpurchase_Time  Clusters  \\\n",
       "Customer ID                                                               \n",
       "12346.0          325         12    745.70                  33         0   \n",
       "12347.0            2          8   4921.53                  50         0   \n",
       "12348.0           75          5   1991.86                  72         0   \n",
       "12349.0           18          4   3786.50                 142         0   \n",
       "12352.0           36         10   2098.94                  35         0   \n",
       "\n",
       "            r_score f_score m_score RFMT SCORE  \n",
       "Customer ID                                     \n",
       "12346.0           3       1       1         31  \n",
       "12347.0           5       1       1         51  \n",
       "12348.0           5       1       1         51  \n",
       "12349.0           5       1       1         51  \n",
       "12352.0           5       1       1         51  "
      ]
     },
     "execution_count": 353,
     "metadata": {},
     "output_type": "execute_result"
    }
   ],
   "source": [
    "# Lets create bins and assign scores for RFMT value\n",
    "bins1 = np.linspace(RFMT[\"Recency\"].min(),RFMT[\"Recency\"].max(),6)\n",
    "RFMT[\"r_score\"] = pd.cut(RFMT[\"Recency\"],bins1,labels=[5,4,3,2,1],include_lowest=True)\n",
    "\n",
    "bins2 = np.linspace(RFMT[\"Frequency\"].min(),RFMT[\"Frequency\"].max(),6)\n",
    "RFMT[\"f_score\"] = pd.cut(RFMT[\"Frequency\"],bins2,labels=[1,2,3,4,5],include_lowest=True)\n",
    "\n",
    "bins3 = np.linspace(RFMT[\"Monetary\"].min(),RFMT[\"Monetary\"].max(),6)\n",
    "RFMT[\"m_score\"] = pd.cut(RFMT[\"Monetary\"],bins3,labels=[1,2,3,4,5],include_lowest=True)\n",
    "\n",
    "RFMT[\"RFMT SCORE\"] = RFMT[\"r_score\"].astype(str) + RFMT[\"f_score\"].astype(str)\n",
    "RFMT.head()"
   ]
  },
  {
   "cell_type": "code",
   "execution_count": 354,
   "metadata": {},
   "outputs": [
    {
     "data": {
      "text/html": [
       "<div>\n",
       "<style scoped>\n",
       "    .dataframe tbody tr th:only-of-type {\n",
       "        vertical-align: middle;\n",
       "    }\n",
       "\n",
       "    .dataframe tbody tr th {\n",
       "        vertical-align: top;\n",
       "    }\n",
       "\n",
       "    .dataframe thead th {\n",
       "        text-align: right;\n",
       "    }\n",
       "</style>\n",
       "<table border=\"1\" class=\"dataframe\">\n",
       "  <thead>\n",
       "    <tr style=\"text-align: right;\">\n",
       "      <th></th>\n",
       "      <th>Recency</th>\n",
       "      <th>Frequency</th>\n",
       "      <th>Monetary</th>\n",
       "      <th>Interpurchase_Time</th>\n",
       "      <th>Clusters</th>\n",
       "      <th>r_score</th>\n",
       "      <th>f_score</th>\n",
       "      <th>m_score</th>\n",
       "      <th>RFMT SCORE</th>\n",
       "      <th>segment</th>\n",
       "    </tr>\n",
       "    <tr>\n",
       "      <th>Customer ID</th>\n",
       "      <th></th>\n",
       "      <th></th>\n",
       "      <th></th>\n",
       "      <th></th>\n",
       "      <th></th>\n",
       "      <th></th>\n",
       "      <th></th>\n",
       "      <th></th>\n",
       "      <th></th>\n",
       "      <th></th>\n",
       "    </tr>\n",
       "  </thead>\n",
       "  <tbody>\n",
       "    <tr>\n",
       "      <th>12346.0</th>\n",
       "      <td>325</td>\n",
       "      <td>12</td>\n",
       "      <td>745.70</td>\n",
       "      <td>33</td>\n",
       "      <td>0</td>\n",
       "      <td>3</td>\n",
       "      <td>1</td>\n",
       "      <td>1</td>\n",
       "      <td>31</td>\n",
       "      <td>about_to_sleep</td>\n",
       "    </tr>\n",
       "    <tr>\n",
       "      <th>12347.0</th>\n",
       "      <td>2</td>\n",
       "      <td>8</td>\n",
       "      <td>4921.53</td>\n",
       "      <td>50</td>\n",
       "      <td>0</td>\n",
       "      <td>5</td>\n",
       "      <td>1</td>\n",
       "      <td>1</td>\n",
       "      <td>51</td>\n",
       "      <td>new_customers</td>\n",
       "    </tr>\n",
       "    <tr>\n",
       "      <th>12348.0</th>\n",
       "      <td>75</td>\n",
       "      <td>5</td>\n",
       "      <td>1991.86</td>\n",
       "      <td>72</td>\n",
       "      <td>0</td>\n",
       "      <td>5</td>\n",
       "      <td>1</td>\n",
       "      <td>1</td>\n",
       "      <td>51</td>\n",
       "      <td>new_customers</td>\n",
       "    </tr>\n",
       "    <tr>\n",
       "      <th>12349.0</th>\n",
       "      <td>18</td>\n",
       "      <td>4</td>\n",
       "      <td>3786.50</td>\n",
       "      <td>142</td>\n",
       "      <td>0</td>\n",
       "      <td>5</td>\n",
       "      <td>1</td>\n",
       "      <td>1</td>\n",
       "      <td>51</td>\n",
       "      <td>new_customers</td>\n",
       "    </tr>\n",
       "    <tr>\n",
       "      <th>12352.0</th>\n",
       "      <td>36</td>\n",
       "      <td>10</td>\n",
       "      <td>2098.94</td>\n",
       "      <td>35</td>\n",
       "      <td>0</td>\n",
       "      <td>5</td>\n",
       "      <td>1</td>\n",
       "      <td>1</td>\n",
       "      <td>51</td>\n",
       "      <td>new_customers</td>\n",
       "    </tr>\n",
       "  </tbody>\n",
       "</table>\n",
       "</div>"
      ],
      "text/plain": [
       "             Recency  Frequency  Monetary  Interpurchase_Time  Clusters  \\\n",
       "Customer ID                                                               \n",
       "12346.0          325         12    745.70                  33         0   \n",
       "12347.0            2          8   4921.53                  50         0   \n",
       "12348.0           75          5   1991.86                  72         0   \n",
       "12349.0           18          4   3786.50                 142         0   \n",
       "12352.0           36         10   2098.94                  35         0   \n",
       "\n",
       "            r_score f_score m_score RFMT SCORE         segment  \n",
       "Customer ID                                                     \n",
       "12346.0           3       1       1         31  about_to_sleep  \n",
       "12347.0           5       1       1         51   new_customers  \n",
       "12348.0           5       1       1         51   new_customers  \n",
       "12349.0           5       1       1         51   new_customers  \n",
       "12352.0           5       1       1         51   new_customers  "
      ]
     },
     "execution_count": 354,
     "metadata": {},
     "output_type": "execute_result"
    }
   ],
   "source": [
    "# creating dictionary to name each segments\n",
    "dict_seg = {\n",
    "    r'[1-2][1-2]': 'hibernating',\n",
    "    r'[1-2][3-4]': 'at_Risk',\n",
    "    r'[1-2]5': 'cant_loose',\n",
    "    r'3[1-2]': 'about_to_sleep',\n",
    "    r'33': 'need_attention',\n",
    "    r'[3-4][4-5]': 'loyal_customers',\n",
    "    r'41': 'promising',\n",
    "    r'51': 'new_customers',\n",
    "    r'[4-5][2-3]': 'potential_loyalists',\n",
    "    r'5[4-5]': 'champions'\n",
    "}\n",
    "\n",
    "RFMT['segment'] = RFMT['RFMT SCORE'].replace(dict_seg, regex = True)\n",
    "RFMT.head()"
   ]
  },
  {
   "cell_type": "code",
   "execution_count": 355,
   "metadata": {},
   "outputs": [],
   "source": [
    "#lets segregate RFMT frame w.r.t its cluster\n",
    "c1 = RFMT[RFMT[\"Clusters\"]==0]\n",
    "c2 =RFMT[RFMT[\"Clusters\"]==1]"
   ]
  },
  {
   "cell_type": "code",
   "execution_count": 356,
   "metadata": {},
   "outputs": [
    {
     "name": "stderr",
     "output_type": "stream",
     "text": [
      "C:\\Users\\Adarsh\\AppData\\Local\\Temp\\ipykernel_1148\\2623351212.py:6: UserWarning: Matplotlib is currently using module://matplotlib_inline.backend_inline, which is a non-GUI backend, so cannot show the figure.\n",
      "  fig.show()\n"
     ]
    },
    {
     "data": {
      "image/png": "[encoded data removed]",
      "text/plain": [
       "<Figure size 1440x288 with 2 Axes>"
      ]
     },
     "metadata": {},
     "output_type": "display_data"
    }
   ],
   "source": [
    "#Lets check who all are there in each clusters\n",
    "sns.set(rc={\"figure.figsize\":(20, 4)})\n",
    "fig, ax =plt.subplots(1,2)\n",
    "sns.countplot(x=\"segment\",data=c1,ax=ax[0]).set_title(\"Cluster 1\")\n",
    "sns.countplot(x=\"segment\",data=c2,ax=ax[1]).set_title(\"Cluster 2\")\n",
    "fig.show()"
   ]
  },
  {
   "attachments": {
    "image-2.png": {
     "image/png": "[encoded data removed]"
    }
   },
   "cell_type": "markdown",
   "metadata": {},
   "source": [
    "Segments Description\n",
    "![image-2.png](attachment:image-2.png)\n"
   ]
  },
  {
   "attachments": {
    "image-4.png": {
     "image/png": "[encoded data removed]"
    }
   },
   "cell_type": "markdown",
   "metadata": {},
   "source": [
    "Outcome and Summary:\n",
    "\n",
    "![image-4.png](attachment:image-4.png)"
   ]
  }
 ],
 "metadata": {
  "kernelspec": {
   "display_name": "Python 3 (ipykernel)",
   "language": "python",
   "name": "python3"
  },
  "language_info": {
   "codemirror_mode": {
    "name": "ipython",
    "version": 3
   },
   "file_extension": ".py",
   "mimetype": "text/x-python",
   "name": "python",
   "nbconvert_exporter": "python",
   "pygments_lexer": "ipython3",
   "version": "3.9.12"
  }
 },
 "nbformat": 4,
 "nbformat_minor": 4
}
